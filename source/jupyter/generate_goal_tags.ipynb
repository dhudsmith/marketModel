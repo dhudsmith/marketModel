{
 "cells": [
  {
   "cell_type": "markdown",
   "metadata": {},
   "source": [
    "## Import necessary modules"
   ]
  },
  {
   "cell_type": "code",
   "execution_count": 198,
   "metadata": {
    "ExecuteTime": {
     "end_time": "2017-09-07T09:28:43.003537Z",
     "start_time": "2017-09-07T09:28:42.997333Z"
    },
    "collapsed": false
   },
   "outputs": [],
   "source": [
    "import time\n",
    "import pandas as pd\n",
    "import numpy as np\n",
    "import datetime as dt\n",
    "from collections import OrderedDict\n",
    "from copy import copy\n",
    "import warnings\n",
    "import matplotlib.pyplot as plt\n",
    "import seaborn as sns\n",
    "from pprint import pprint\n",
    "%matplotlib inline"
   ]
  },
  {
   "cell_type": "markdown",
   "metadata": {},
   "source": [
    "## Filepath management"
   ]
  },
  {
   "cell_type": "code",
   "execution_count": 199,
   "metadata": {
    "ExecuteTime": {
     "end_time": "2017-09-07T09:28:43.719161Z",
     "start_time": "2017-09-07T09:28:43.716273Z"
    },
    "collapsed": true
   },
   "outputs": [],
   "source": [
    "project_dir = r'/Users/hudson/Code/marketModel/'"
   ]
  },
  {
   "cell_type": "markdown",
   "metadata": {},
   "source": [
    "## Load the data from the hdf store"
   ]
  },
  {
   "cell_type": "code",
   "execution_count": 200,
   "metadata": {
    "ExecuteTime": {
     "end_time": "2017-09-07T09:28:44.490041Z",
     "start_time": "2017-09-07T09:28:44.471707Z"
    },
    "collapsed": false
   },
   "outputs": [
    {
     "name": "stdout",
     "output_type": "stream",
     "text": [
      "array(['ASTC', 'PAVM', 'CODA', 'WSTL', 'MICR', 'SEAC', 'GBR', 'CPST',\n",
      "       'CYAN', 'ATLC', 'WTT', 'LRAD', 'DTRM', 'AVIR', 'UTSI', 'JCS',\n",
      "       'ZDGE', 'REFR', 'FORD', 'APHB', 'JVA', 'VSR', 'BNSO', 'ARDM', 'LEU',\n",
      "       'MOC'], dtype=object)\n"
     ]
    }
   ],
   "source": [
    "stock_data = pd.read_hdf(project_dir + 'data/stock_data/raw_stock_data.hdf', 'table')\n",
    "symbols = stock_data.reset_index().ticker.unique()\n",
    "pprint(symbols)"
   ]
  },
  {
   "cell_type": "code",
   "execution_count": 201,
   "metadata": {
    "ExecuteTime": {
     "end_time": "2017-09-07T09:28:44.959756Z",
     "start_time": "2017-09-07T09:28:44.941688Z"
    },
    "collapsed": false
   },
   "outputs": [
    {
     "data": {
      "text/html": [
       "<div>\n",
       "<style>\n",
       "    .dataframe thead tr:only-child th {\n",
       "        text-align: right;\n",
       "    }\n",
       "\n",
       "    .dataframe thead th {\n",
       "        text-align: left;\n",
       "    }\n",
       "\n",
       "    .dataframe tbody tr th {\n",
       "        vertical-align: top;\n",
       "    }\n",
       "</style>\n",
       "<table border=\"1\" class=\"dataframe\">\n",
       "  <thead>\n",
       "    <tr style=\"text-align: right;\">\n",
       "      <th></th>\n",
       "      <th></th>\n",
       "      <th>open</th>\n",
       "      <th>high</th>\n",
       "      <th>low</th>\n",
       "      <th>close</th>\n",
       "      <th>volume</th>\n",
       "    </tr>\n",
       "    <tr>\n",
       "      <th>ticker</th>\n",
       "      <th>timestamp</th>\n",
       "      <th></th>\n",
       "      <th></th>\n",
       "      <th></th>\n",
       "      <th></th>\n",
       "      <th></th>\n",
       "    </tr>\n",
       "  </thead>\n",
       "  <tbody>\n",
       "    <tr>\n",
       "      <th rowspan=\"5\" valign=\"top\">ASTC</th>\n",
       "      <th>2017-08-28 13:30:00</th>\n",
       "      <td>0.7500</td>\n",
       "      <td>0.7500</td>\n",
       "      <td>0.7500</td>\n",
       "      <td>0.7500</td>\n",
       "      <td>161</td>\n",
       "    </tr>\n",
       "    <tr>\n",
       "      <th>2017-08-28 13:37:00</th>\n",
       "      <td>0.7500</td>\n",
       "      <td>0.7500</td>\n",
       "      <td>0.7500</td>\n",
       "      <td>0.7500</td>\n",
       "      <td>200</td>\n",
       "    </tr>\n",
       "    <tr>\n",
       "      <th>2017-08-28 14:08:00</th>\n",
       "      <td>0.7700</td>\n",
       "      <td>0.7700</td>\n",
       "      <td>0.7700</td>\n",
       "      <td>0.7700</td>\n",
       "      <td>100</td>\n",
       "    </tr>\n",
       "    <tr>\n",
       "      <th>2017-08-28 14:13:00</th>\n",
       "      <td>0.7523</td>\n",
       "      <td>0.7523</td>\n",
       "      <td>0.7523</td>\n",
       "      <td>0.7523</td>\n",
       "      <td>234</td>\n",
       "    </tr>\n",
       "    <tr>\n",
       "      <th>2017-08-28 14:24:00</th>\n",
       "      <td>0.7700</td>\n",
       "      <td>0.7700</td>\n",
       "      <td>0.7700</td>\n",
       "      <td>0.7700</td>\n",
       "      <td>100</td>\n",
       "    </tr>\n",
       "  </tbody>\n",
       "</table>\n",
       "</div>"
      ],
      "text/plain": [
       "                              open    high     low   close  volume\n",
       "ticker timestamp                                                  \n",
       "ASTC   2017-08-28 13:30:00  0.7500  0.7500  0.7500  0.7500     161\n",
       "       2017-08-28 13:37:00  0.7500  0.7500  0.7500  0.7500     200\n",
       "       2017-08-28 14:08:00  0.7700  0.7700  0.7700  0.7700     100\n",
       "       2017-08-28 14:13:00  0.7523  0.7523  0.7523  0.7523     234\n",
       "       2017-08-28 14:24:00  0.7700  0.7700  0.7700  0.7700     100"
      ]
     },
     "execution_count": 201,
     "metadata": {},
     "output_type": "execute_result"
    }
   ],
   "source": [
    "stock_data.head()"
   ]
  },
  {
   "cell_type": "markdown",
   "metadata": {},
   "source": [
    "## Visualize the data"
   ]
  },
  {
   "cell_type": "code",
   "execution_count": 202,
   "metadata": {
    "ExecuteTime": {
     "end_time": "2017-09-07T09:28:45.860901Z",
     "start_time": "2017-09-07T09:28:45.836490Z"
    },
    "collapsed": false
   },
   "outputs": [
    {
     "name": "stdout",
     "output_type": "stream",
     "text": [
      "symbol: BNSO\n",
      "                       open    high     low   close  volume\n",
      "timestamp                                                  \n",
      "2017-08-28 14:28:00  2.1550  2.1795  2.1550  2.1795     400\n",
      "2017-08-28 14:31:00  2.1660  2.1660  2.1660  2.1660    1000\n",
      "2017-08-28 16:13:00  2.1500  2.1500  2.1500  2.1500     400\n",
      "2017-08-28 16:25:00  2.1400  2.1400  2.1400  2.1400     100\n",
      "2017-08-28 18:27:00  2.1436  2.1436  2.1436  2.1436     120\n",
      "            open       high        low      close       volume\n",
      "count  83.000000  83.000000  83.000000  83.000000    83.000000\n",
      "mean    2.170754   2.171746   2.169580   2.171096   392.289157\n",
      "std     0.036060   0.035549   0.036088   0.035353   482.644179\n",
      "min     2.090000   2.100000   2.090000   2.100000   100.000000\n",
      "25%     2.149950   2.150000   2.146750   2.150000   150.000000\n",
      "50%     2.160000   2.160000   2.160000   2.160000   200.000000\n",
      "75%     2.194400   2.194400   2.194400   2.194400   400.000000\n",
      "max     2.240000   2.240000   2.240000   2.240000  2973.000000\n"
     ]
    }
   ],
   "source": [
    "symbol = np.random.choice(symbols)\n",
    "print 'symbol: ' + symbol\n",
    "stock_data_vis = stock_data.loc[symbol]\n",
    "print stock_data_vis.head()\n",
    "print stock_data_vis.describe()"
   ]
  },
  {
   "cell_type": "code",
   "execution_count": 203,
   "metadata": {
    "ExecuteTime": {
     "end_time": "2017-09-07T09:28:46.750514Z",
     "start_time": "2017-09-07T09:28:46.528311Z"
    },
    "collapsed": false
   },
   "outputs": [
    {
     "data": {
      "image/png": "[encoded data removed]",
      "text/plain": [
       "<matplotlib.figure.Figure at 0x11947e9d0>"
      ]
     },
     "metadata": {},
     "output_type": "display_data"
    }
   ],
   "source": [
    "# First keep the time index so we can see the time frame\n",
    "stock_data_vis.close.plot(label=symbol)\n",
    "\n",
    "plt.legend(bbox_to_anchor=(1.25, .5))\n",
    "plt.tight_layout()\n",
    "plt.ylabel(\"Close ($)\")\n",
    "sns.despine()"
   ]
  },
  {
   "cell_type": "code",
   "execution_count": 204,
   "metadata": {
    "ExecuteTime": {
     "end_time": "2017-09-07T09:28:47.871402Z",
     "start_time": "2017-09-07T09:28:47.611562Z"
    },
    "collapsed": false
   },
   "outputs": [
    {
     "data": {
      "image/png": "[encoded data removed]",
      "text/plain": [
       "<matplotlib.figure.Figure at 0x1194a0590>"
      ]
     },
     "metadata": {},
     "output_type": "display_data"
    }
   ],
   "source": [
    "# Now drop the time index so we can see the actual stock movement\n",
    "stock_data_vis.reset_index().close.plot(label=symbol)\n",
    "stock_data_vis.reset_index().close.rolling(20).mean().plot(label='20 Min. Moving Avg.')\n",
    "\n",
    "plt.legend(bbox_to_anchor=(1.25, .5))\n",
    "plt.tight_layout()\n",
    "plt.ylabel(\"Close ($)\")\n",
    "sns.despine()"
   ]
  },
  {
   "cell_type": "markdown",
   "metadata": {},
   "source": [
    "## Adding in missing times (zero volume minutes)\n",
    "Before evaluating goals, we need to fill in the missing time steps.\n",
    "These missing time steps have zero trading volume.\n",
    "So, all of the prices for these steps are equal to the last\n",
    "closing price. All of the volumes are equal to zero."
   ]
  },
  {
   "cell_type": "code",
   "execution_count": 205,
   "metadata": {
    "ExecuteTime": {
     "end_time": "2017-09-07T09:28:50.940525Z",
     "start_time": "2017-09-07T09:28:50.928880Z"
    },
    "collapsed": false
   },
   "outputs": [
    {
     "name": "stdout",
     "output_type": "stream",
     "text": [
      "                    ticker    open    high     low   close  volume\n",
      "timestamp                                                         \n",
      "2017-08-28 13:30:00   ASTC  0.7500  0.7500  0.7500  0.7500     161\n",
      "2017-08-28 13:37:00   ASTC  0.7500  0.7500  0.7500  0.7500     200\n",
      "2017-08-28 14:08:00   ASTC  0.7700  0.7700  0.7700  0.7700     100\n",
      "2017-08-28 14:13:00   ASTC  0.7523  0.7523  0.7523  0.7523     234\n",
      "2017-08-28 14:24:00   ASTC  0.7700  0.7700  0.7700  0.7700     100\n"
     ]
    }
   ],
   "source": [
    "# First reshape the index and group by ticker\n",
    "stock_data_final = stock_data.reset_index(level=0)\n",
    "print stock_data_final.head()\n",
    "grouped_stock_data = stock_data_final.groupby('ticker')"
   ]
  },
  {
   "cell_type": "code",
   "execution_count": 209,
   "metadata": {
    "ExecuteTime": {
     "end_time": "2017-09-07T09:29:39.036421Z",
     "start_time": "2017-09-07T09:29:38.714555Z"
    },
    "collapsed": false
   },
   "outputs": [],
   "source": [
    "## Before evaluating goals, we need to fill in the missing time steps.\n",
    "## These missing time steps have zero trading volume.\n",
    "## So, all of the prices for these steps are equal to the last\n",
    "## closing price. All of the volumes are equal to zero.\n",
    "\n",
    "stock_data_with_all_minutes = []\n",
    "for name, group in grouped_stock_data:\n",
    "    \n",
    "    # Create a dataframe of all the times\n",
    "    min_time, max_time = group.index.min(), group.index.max()    \n",
    "    duration = (min_time - max_time).seconds / 60\n",
    "    alltimes = pd.DataFrame([min_time + np.timedelta64(i, 'm') for i in xrange(duration)], columns=['timestamp'])\n",
    "    alltimes = alltimes.reset_index(level=0, drop=True).set_index('timestamp')\n",
    "    \n",
    "    # Drop minutes outside of 9:30am - 4:00pm est\n",
    "    alltimes = alltimes.between_time('09:30','16:00')\n",
    "  \n",
    "    # Join on the original dataframe\n",
    "    alltimes_group = alltimes.join(group)\n",
    "    \n",
    "    # Forward fill the NaN closing prices \n",
    "    alltimes_group.loc[:,('ticker', 'close')] = alltimes_group.loc[:,('ticker', 'close')].\\\n",
    "                                                    fillna(method='ffill', axis=0)\n",
    "    \n",
    "    # Assign all price variables to the close price\n",
    "    alltimes_group.loc[:,'open':'close'] = alltimes_group.loc[:,'open':'close'].\\\n",
    "                                                fillna(method='bfill', axis=1)\n",
    "    \n",
    "    # Assign all NaN volumes to zero\n",
    "    alltimes_group.loc[:, 'volume'] = alltimes_group.loc[:, 'volume'].fillna(value=0)\n",
    "    \n",
    "    stock_data_with_all_minutes.append(alltimes_group)\n",
    "    \n",
    "stock_data_with_all_minutes = pd.concat(stock_data_with_all_minutes)\n"
   ]
  },
  {
   "cell_type": "code",
   "execution_count": 213,
   "metadata": {
    "ExecuteTime": {
     "end_time": "2017-09-07T09:39:17.496710Z",
     "start_time": "2017-09-07T09:39:17.469346Z"
    },
    "collapsed": false
   },
   "outputs": [
    {
     "data": {
      "text/html": [
       "<div>\n",
       "<style>\n",
       "    .dataframe thead tr:only-child th {\n",
       "        text-align: right;\n",
       "    }\n",
       "\n",
       "    .dataframe thead th {\n",
       "        text-align: left;\n",
       "    }\n",
       "\n",
       "    .dataframe tbody tr th {\n",
       "        vertical-align: top;\n",
       "    }\n",
       "</style>\n",
       "<table border=\"1\" class=\"dataframe\">\n",
       "  <thead>\n",
       "    <tr>\n",
       "      <th></th>\n",
       "      <th colspan=\"2\" halign=\"left\">timestamp</th>\n",
       "    </tr>\n",
       "    <tr>\n",
       "      <th></th>\n",
       "      <th>amin</th>\n",
       "      <th>amax</th>\n",
       "    </tr>\n",
       "    <tr>\n",
       "      <th>ticker</th>\n",
       "      <th></th>\n",
       "      <th></th>\n",
       "    </tr>\n",
       "  </thead>\n",
       "  <tbody>\n",
       "    <tr>\n",
       "      <th>APHB</th>\n",
       "      <td>2017-08-28 13:30:00</td>\n",
       "      <td>2017-08-28 16:00:00</td>\n",
       "    </tr>\n",
       "    <tr>\n",
       "      <th>ARDM</th>\n",
       "      <td>2017-08-28 13:30:00</td>\n",
       "      <td>2017-08-28 16:00:00</td>\n",
       "    </tr>\n",
       "    <tr>\n",
       "      <th>ASTC</th>\n",
       "      <td>2017-08-28 13:30:00</td>\n",
       "      <td>2017-08-28 16:00:00</td>\n",
       "    </tr>\n",
       "    <tr>\n",
       "      <th>ATLC</th>\n",
       "      <td>2017-08-28 13:30:00</td>\n",
       "      <td>2017-08-28 16:00:00</td>\n",
       "    </tr>\n",
       "    <tr>\n",
       "      <th>AVIR</th>\n",
       "      <td>2017-08-28 13:30:00</td>\n",
       "      <td>2017-08-28 16:00:00</td>\n",
       "    </tr>\n",
       "    <tr>\n",
       "      <th>BNSO</th>\n",
       "      <td>2017-08-28 14:28:00</td>\n",
       "      <td>2017-08-28 16:00:00</td>\n",
       "    </tr>\n",
       "    <tr>\n",
       "      <th>CODA</th>\n",
       "      <td>2017-08-28 13:30:00</td>\n",
       "      <td>2017-08-28 16:00:00</td>\n",
       "    </tr>\n",
       "    <tr>\n",
       "      <th>CPST</th>\n",
       "      <td>2017-08-28 13:30:00</td>\n",
       "      <td>2017-08-28 16:00:00</td>\n",
       "    </tr>\n",
       "    <tr>\n",
       "      <th>CYAN</th>\n",
       "      <td>2017-08-28 13:33:00</td>\n",
       "      <td>2017-08-28 16:00:00</td>\n",
       "    </tr>\n",
       "    <tr>\n",
       "      <th>DTRM</th>\n",
       "      <td>2017-08-28 13:35:00</td>\n",
       "      <td>2017-08-28 16:00:00</td>\n",
       "    </tr>\n",
       "    <tr>\n",
       "      <th>FORD</th>\n",
       "      <td>2017-08-28 13:30:00</td>\n",
       "      <td>2017-08-28 16:00:00</td>\n",
       "    </tr>\n",
       "    <tr>\n",
       "      <th>GBR</th>\n",
       "      <td>2017-08-28 13:30:00</td>\n",
       "      <td>2017-08-28 16:00:00</td>\n",
       "    </tr>\n",
       "    <tr>\n",
       "      <th>JCS</th>\n",
       "      <td>2017-08-28 13:30:00</td>\n",
       "      <td>2017-08-28 16:00:00</td>\n",
       "    </tr>\n",
       "    <tr>\n",
       "      <th>JVA</th>\n",
       "      <td>2017-08-28 14:01:00</td>\n",
       "      <td>2017-08-28 16:00:00</td>\n",
       "    </tr>\n",
       "    <tr>\n",
       "      <th>LEU</th>\n",
       "      <td>2017-08-28 13:40:00</td>\n",
       "      <td>2017-08-28 16:00:00</td>\n",
       "    </tr>\n",
       "    <tr>\n",
       "      <th>LRAD</th>\n",
       "      <td>2017-08-28 13:30:00</td>\n",
       "      <td>2017-08-28 16:00:00</td>\n",
       "    </tr>\n",
       "    <tr>\n",
       "      <th>MICR</th>\n",
       "      <td>2017-08-28 14:57:00</td>\n",
       "      <td>2017-08-29 09:54:00</td>\n",
       "    </tr>\n",
       "    <tr>\n",
       "      <th>MOC</th>\n",
       "      <td>2017-08-28 15:28:00</td>\n",
       "      <td>2017-08-29 10:55:00</td>\n",
       "    </tr>\n",
       "    <tr>\n",
       "      <th>PAVM</th>\n",
       "      <td>2017-08-28 13:30:00</td>\n",
       "      <td>2017-08-28 16:00:00</td>\n",
       "    </tr>\n",
       "    <tr>\n",
       "      <th>REFR</th>\n",
       "      <td>2017-08-28 13:30:00</td>\n",
       "      <td>2017-08-28 16:00:00</td>\n",
       "    </tr>\n",
       "    <tr>\n",
       "      <th>SEAC</th>\n",
       "      <td>2017-08-28 13:30:00</td>\n",
       "      <td>2017-08-28 16:00:00</td>\n",
       "    </tr>\n",
       "    <tr>\n",
       "      <th>UTSI</th>\n",
       "      <td>2017-08-28 13:30:00</td>\n",
       "      <td>2017-08-28 16:00:00</td>\n",
       "    </tr>\n",
       "    <tr>\n",
       "      <th>VSR</th>\n",
       "      <td>2017-08-28 13:30:00</td>\n",
       "      <td>2017-08-28 16:00:00</td>\n",
       "    </tr>\n",
       "    <tr>\n",
       "      <th>WSTL</th>\n",
       "      <td>2017-08-28 13:30:00</td>\n",
       "      <td>2017-08-28 16:00:00</td>\n",
       "    </tr>\n",
       "    <tr>\n",
       "      <th>WTT</th>\n",
       "      <td>2017-08-28 14:02:00</td>\n",
       "      <td>2017-08-28 16:00:00</td>\n",
       "    </tr>\n",
       "    <tr>\n",
       "      <th>ZDGE</th>\n",
       "      <td>2017-08-28 13:51:00</td>\n",
       "      <td>2017-08-28 16:00:00</td>\n",
       "    </tr>\n",
       "  </tbody>\n",
       "</table>\n",
       "</div>"
      ],
      "text/plain": [
       "                 timestamp                    \n",
       "                      amin                amax\n",
       "ticker                                        \n",
       "APHB   2017-08-28 13:30:00 2017-08-28 16:00:00\n",
       "ARDM   2017-08-28 13:30:00 2017-08-28 16:00:00\n",
       "ASTC   2017-08-28 13:30:00 2017-08-28 16:00:00\n",
       "ATLC   2017-08-28 13:30:00 2017-08-28 16:00:00\n",
       "AVIR   2017-08-28 13:30:00 2017-08-28 16:00:00\n",
       "BNSO   2017-08-28 14:28:00 2017-08-28 16:00:00\n",
       "CODA   2017-08-28 13:30:00 2017-08-28 16:00:00\n",
       "CPST   2017-08-28 13:30:00 2017-08-28 16:00:00\n",
       "CYAN   2017-08-28 13:33:00 2017-08-28 16:00:00\n",
       "DTRM   2017-08-28 13:35:00 2017-08-28 16:00:00\n",
       "FORD   2017-08-28 13:30:00 2017-08-28 16:00:00\n",
       "GBR    2017-08-28 13:30:00 2017-08-28 16:00:00\n",
       "JCS    2017-08-28 13:30:00 2017-08-28 16:00:00\n",
       "JVA    2017-08-28 14:01:00 2017-08-28 16:00:00\n",
       "LEU    2017-08-28 13:40:00 2017-08-28 16:00:00\n",
       "LRAD   2017-08-28 13:30:00 2017-08-28 16:00:00\n",
       "MICR   2017-08-28 14:57:00 2017-08-29 09:54:00\n",
       "MOC    2017-08-28 15:28:00 2017-08-29 10:55:00\n",
       "PAVM   2017-08-28 13:30:00 2017-08-28 16:00:00\n",
       "REFR   2017-08-28 13:30:00 2017-08-28 16:00:00\n",
       "SEAC   2017-08-28 13:30:00 2017-08-28 16:00:00\n",
       "UTSI   2017-08-28 13:30:00 2017-08-28 16:00:00\n",
       "VSR    2017-08-28 13:30:00 2017-08-28 16:00:00\n",
       "WSTL   2017-08-28 13:30:00 2017-08-28 16:00:00\n",
       "WTT    2017-08-28 14:02:00 2017-08-28 16:00:00\n",
       "ZDGE   2017-08-28 13:51:00 2017-08-28 16:00:00"
      ]
     },
     "execution_count": 213,
     "metadata": {},
     "output_type": "execute_result"
    }
   ],
   "source": [
    "stock_data_with_all_minutes.reset_index().loc[:,('ticker', 'timestamp')].groupby('ticker').agg([np.min,np.max])"
   ]
  },
  {
   "cell_type": "markdown",
   "metadata": {
    "collapsed": true
   },
   "source": [
    "## Logic for getting goal information"
   ]
  },
  {
   "cell_type": "code",
   "execution_count": 179,
   "metadata": {
    "ExecuteTime": {
     "end_time": "2017-09-07T07:34:55.512430Z",
     "start_time": "2017-09-07T07:34:55.476175Z"
    },
    "collapsed": false
   },
   "outputs": [],
   "source": [
    "def get_min_max(data, starttime, endtime):\n",
    "    \"\"\"\n",
    "    This function takes data for a specific ticker and returns the min and max prices.\n",
    "    \"\"\"\n",
    "    subdata = data.loc[starttime:endtime]\n",
    "    \n",
    "    return (subdata.low.min(), subdata.high.max())\n",
    "    \n",
    "def is_goal_met(data, timestep, goal_time_from_step, goal_duration, goal_raise_frac = 0.1, goal_drop_frac=0.1):\n",
    "    \"\"\"\n",
    "    This function takes data for a specific ticker, a time index for that ticker, goal parameters, and \n",
    "    returns a boolean indicating whether or not the goal is satisfied for that timestep.\n",
    "    \"\"\"\n",
    "    \n",
    "    # Assign a status message to record various special cases\n",
    "    statusMessage = \"\"\n",
    "    \n",
    "    # Convert time variables to appropriate numpyt date types\n",
    "    td_goal_time_from_step = np.timedelta64(goal_time_from_step, 'm')\n",
    "    td_goal_duration = np.timedelta64(goal_duration, 'm')\n",
    "    \n",
    "    # Calculate the start and end times of the goal time window\n",
    "    goal_starttime = np.datetime64(timestep + td_goal_time_from_step)\n",
    "    goal_endtime = np.datetime64(goal_starttime + td_goal_duration)\n",
    "    \n",
    "    if goal_endtime > np.datetime64(data.index.max()):\n",
    "        statusMessage = \"Goal time window end time lies beyond available data.\"\n",
    "    \n",
    "    # Get the data for goal checking in that time window\n",
    "    subdata = data.loc[goal_starttime:goal_endtime]\n",
    "    \n",
    "    # Get the minimum and maximum prices for the goal time window\n",
    "    min_price, max_price = get_min_max(data, goal_starttime, goal_endtime)\n",
    "    if np.isnan(min_price) | np.isnan(max_price):\n",
    "        # Zero trading volume in time window. Get last prices.\n",
    "        most_recent_time_with_transactions = np.max(data.loc[:goal_starttime].index)\n",
    "        if most_recent_time_with_transactions == timestep:\n",
    "            statusMessage = statusMessage + \" Zero trading volume between current timestep and goal time window end.\"\n",
    "            return {'timestamp': timestep,\n",
    "                    'goal_met': False,\n",
    "                    'raise_goal_met': False,\n",
    "                    'drop_goal_met': True,\n",
    "                    'statusMessage': statusMessage}\n",
    "        else:\n",
    "            min_price, max_price = data.loc[timestep, 'low'], data.loc[timestep, 'high']\n",
    "        \n",
    "        \n",
    "    # Determine if goals were met\n",
    "    # TODO: is this the right reference for the 'current price'?\n",
    "    current_price = np.mean(data.loc[timestep, ['high', 'close']])\n",
    "    \n",
    "    # Is raise goal met? Return true if max price at least (1+goal_raise_frac) * current_price\n",
    "    is_raise_goal_met = max_price >= (1+goal_raise_frac) * current_price\n",
    "    \n",
    "    # Is drop goal met? Return true if min price at least (1-goal_drop_frac) * current_price\n",
    "    is_drop_goal_met = min_price >= (1-goal_drop_frac) * current_price\n",
    "    \n",
    "    # Return dict containing raise and drop goals and product for convenience\n",
    "    return {'timestamp': timestep,\n",
    "        'goal_met': is_raise_goal_met * is_drop_goal_met, \n",
    "            'raise_goal_met': is_raise_goal_met, \n",
    "            'drop_goal_met': is_drop_goal_met,\n",
    "             'statusMessage': statusMessage}"
   ]
  },
  {
   "cell_type": "code",
   "execution_count": 180,
   "metadata": {
    "ExecuteTime": {
     "end_time": "2017-09-07T07:34:56.411152Z",
     "start_time": "2017-09-07T07:34:56.405073Z"
    },
    "collapsed": false
   },
   "outputs": [
    {
     "data": {
      "text/plain": [
       "(2.1299999999999999, 2.2400000000000002)"
      ]
     },
     "execution_count": 180,
     "metadata": {},
     "output_type": "execute_result"
    }
   ],
   "source": [
    "# test get_min_max\n",
    "get_min_max(stock_data_vis, '2017-08-28', '2017-08-30')"
   ]
  },
  {
   "cell_type": "code",
   "execution_count": 181,
   "metadata": {
    "ExecuteTime": {
     "end_time": "2017-09-07T07:34:57.010202Z",
     "start_time": "2017-09-07T07:34:57.000067Z"
    },
    "collapsed": false
   },
   "outputs": [
    {
     "name": "stdout",
     "output_type": "stream",
     "text": [
      "Random time: 2017-08-16T17:49:00.000000000\n"
     ]
    },
    {
     "data": {
      "text/plain": [
       "{'drop_goal_met': True,\n",
       " 'goal_met': False,\n",
       " 'raise_goal_met': False,\n",
       " 'statusMessage': '',\n",
       " 'timestamp': numpy.datetime64('2017-08-16T17:49:00.000000000')}"
      ]
     },
     "execution_count": 181,
     "metadata": {},
     "output_type": "execute_result"
    }
   ],
   "source": [
    "# test is_goal_met\n",
    "random_time_index = np.random.choice(stock_data_vis.index.values)\n",
    "print \"Random time: \" + str(random_time_index)\n",
    "is_goal_met(stock_data_vis, random_time_index, 0, 1000)"
   ]
  },
  {
   "cell_type": "markdown",
   "metadata": {},
   "source": [
    "## Get goal tags for all data"
   ]
  },
  {
   "cell_type": "code",
   "execution_count": 182,
   "metadata": {
    "ExecuteTime": {
     "end_time": "2017-09-07T07:34:59.755002Z",
     "start_time": "2017-09-07T07:34:59.748309Z"
    },
    "collapsed": false
   },
   "outputs": [],
   "source": [
    "# first define a function that tags for one ticker\n",
    "def get_tagged_stock_data(data, \n",
    "                          ticker, \n",
    "                          goal_time_from_step, \n",
    "                          goal_duration, \n",
    "                          goal_raise_frac = 0.1, \n",
    "                          goal_drop_frac=0.1):\n",
    "    # Loop over the timestamps building a dictionary of the tagging information\n",
    "    tagged_stock_data = []\n",
    "    for timestep in data.index:\n",
    "        goal_dict = is_goal_met(data, timestep, goal_time_from_step, goal_duration, goal_raise_frac, goal_drop_frac)\n",
    "        tagged_stock_data.append(goal_dict)\n",
    "    # Convert to pandas and return\n",
    "    return pd.DataFrame(tagged_stock_data).set_index('timestamp')"
   ]
  },
  {
   "cell_type": "code",
   "execution_count": 183,
   "metadata": {
    "ExecuteTime": {
     "end_time": "2017-09-07T07:35:06.891897Z",
     "start_time": "2017-09-07T07:35:00.390529Z"
    },
    "collapsed": false
   },
   "outputs": [
    {
     "name": "stdout",
     "output_type": "stream",
     "text": [
      "APHB\n",
      "ARDM\n",
      "ASTC\n",
      "ATLC\n",
      "AVIR\n",
      "BNSO\n",
      "CODA\n",
      "CPST\n",
      "CYAN\n",
      "DTRM\n",
      "FORD\n",
      "GBR\n",
      "JCS\n",
      "JVA\n",
      "LEU\n",
      "LRAD\n",
      "MICR\n",
      "MOC\n",
      "PAVM\n",
      "REFR\n",
      "SEAC\n",
      "UTSI\n",
      "VSR\n",
      "WSTL\n",
      "WTT\n",
      "ZDGE\n"
     ]
    }
   ],
   "source": [
    "start_delay = 24*60 # minutes\n",
    "duration = 24*60*3 # minutes\n",
    "raise_fraction = 0.05\n",
    "drop_fraction = 0.05\n",
    "list_tagged_tickers = []\n",
    "for symbol, group in stock_data_with_all_minutes.groupby('ticker'):\n",
    "    print symbol\n",
    "    \n",
    "    # get the tag data for this symbol\n",
    "    tag_data = get_tagged_stock_data(group, symbol, start_delay, duration, raise_fraction, drop_fraction)\n",
    "    \n",
    "    # join tag data back onto the group data\n",
    "    merged_data = group.join(tag_data)\n",
    "    \n",
    "    # Append to the list of tagged data\n",
    "    list_tagged_tickers.append(merged_data)\n",
    "    \n",
    "# Concatenate all the groups\n",
    "all_tagged_data = pd.concat(list_tagged_tickers)"
   ]
  },
  {
   "cell_type": "code",
   "execution_count": 184,
   "metadata": {
    "ExecuteTime": {
     "end_time": "2017-09-07T07:35:10.266266Z",
     "start_time": "2017-09-07T07:35:10.253201Z"
    },
    "collapsed": false
   },
   "outputs": [
    {
     "name": "stdout",
     "output_type": "stream",
     "text": [
      "                    ticker    open    high     low   close  volume  \\\n",
      "timestamp                                                            \n",
      "2017-08-08 13:30:00   APHB  0.8200  0.8200  0.8200  0.8200  3478.0   \n",
      "2017-08-08 13:31:00   APHB  0.8200  0.8200  0.8200  0.8200     0.0   \n",
      "2017-08-08 13:32:00   APHB  0.8224  0.8224  0.8224  0.8224   320.0   \n",
      "2017-08-08 13:33:00   APHB  0.8224  0.8224  0.8224  0.8224     0.0   \n",
      "2017-08-08 13:34:00   APHB  0.8224  0.8224  0.8224  0.8224     0.0   \n",
      "\n",
      "                     drop_goal_met  goal_met  raise_goal_met  \\\n",
      "timestamp                                                      \n",
      "2017-08-08 13:30:00           True     False           False   \n",
      "2017-08-08 13:31:00           True     False           False   \n",
      "2017-08-08 13:32:00           True     False           False   \n",
      "2017-08-08 13:33:00           True     False           False   \n",
      "2017-08-08 13:34:00           True     False           False   \n",
      "\n",
      "                                                         statusMessage  \n",
      "timestamp                                                               \n",
      "2017-08-08 13:30:00  Goal time window end time lies beyond availabl...  \n",
      "2017-08-08 13:31:00  Goal time window end time lies beyond availabl...  \n",
      "2017-08-08 13:32:00  Goal time window end time lies beyond availabl...  \n",
      "2017-08-08 13:33:00  Goal time window end time lies beyond availabl...  \n",
      "2017-08-08 13:34:00  Goal time window end time lies beyond availabl...  \n"
     ]
    }
   ],
   "source": [
    "print all_tagged_data.head()"
   ]
  },
  {
   "cell_type": "code",
   "execution_count": 185,
   "metadata": {
    "ExecuteTime": {
     "end_time": "2017-09-07T07:35:13.429903Z",
     "start_time": "2017-09-07T07:35:13.421454Z"
    },
    "collapsed": false
   },
   "outputs": [
    {
     "name": "stdout",
     "output_type": "stream",
     "text": [
      "False    3077\n",
      "Name: goal_met, dtype: int64\n",
      "Goal time window end time lies beyond available data.                                                                           3051\n",
      "Goal time window end time lies beyond available data. Zero trading volume between current timestep and goal time window end.      26\n",
      "Name: statusMessage, dtype: int64\n"
     ]
    }
   ],
   "source": [
    "print all_tagged_data.goal_met.value_counts()\n",
    "print all_tagged_data.statusMessage.value_counts()"
   ]
  },
  {
   "cell_type": "markdown",
   "metadata": {
    "collapsed": true
   },
   "source": [
    "## Save data to hdf"
   ]
  },
  {
   "cell_type": "code",
   "execution_count": 76,
   "metadata": {
    "ExecuteTime": {
     "end_time": "2017-09-06T20:50:49.961054Z",
     "start_time": "2017-09-06T20:50:49.931013Z"
    },
    "collapsed": false
   },
   "outputs": [],
   "source": [
    "all_tagged_data.to_hdf(project_dir + 'data/stock_data/tagged_stock_data.hdf', 'table')"
   ]
  }
 ],
 "metadata": {
  "kernelspec": {
   "display_name": "Python 2",
   "language": "python",
   "name": "python2"
  },
  "language_info": {
   "codemirror_mode": {
    "name": "ipython",
    "version": 2
   },
   "file_extension": ".py",
   "mimetype": "text/x-python",
   "name": "python",
   "nbconvert_exporter": "python",
   "pygments_lexer": "ipython2",
   "version": "2.7.13"
  }
 },
 "nbformat": 4,
 "nbformat_minor": 2
}
