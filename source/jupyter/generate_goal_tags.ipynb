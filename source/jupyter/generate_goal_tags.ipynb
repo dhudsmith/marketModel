{
 "cells": [
  {
   "cell_type": "markdown",
   "metadata": {},
   "source": [
    "## Import necessary modules"
   ]
  },
  {
   "cell_type": "code",
   "execution_count": 1,
   "metadata": {
    "ExecuteTime": {
     "end_time": "2017-09-09T08:06:41.335100Z",
     "start_time": "2017-09-09T08:06:39.890103Z"
    },
    "collapsed": false
   },
   "outputs": [],
   "source": [
    "import time\n",
    "import pandas as pd\n",
    "import numpy as np\n",
    "import datetime as dt\n",
    "from collections import OrderedDict\n",
    "from copy import copy\n",
    "import warnings\n",
    "import matplotlib.pyplot as plt\n",
    "import seaborn as sns\n",
    "from pprint import pprint\n",
    "%matplotlib inline"
   ]
  },
  {
   "cell_type": "markdown",
   "metadata": {},
   "source": [
    "## Filepath management"
   ]
  },
  {
   "cell_type": "code",
   "execution_count": 2,
   "metadata": {
    "ExecuteTime": {
     "end_time": "2017-09-09T08:06:41.339520Z",
     "start_time": "2017-09-09T08:06:41.336625Z"
    },
    "collapsed": true
   },
   "outputs": [],
   "source": [
    "project_dir = r'/Users/hudson/Code/marketModel/'"
   ]
  },
  {
   "cell_type": "markdown",
   "metadata": {},
   "source": [
    "## Load the data from the hdf store"
   ]
  },
  {
   "cell_type": "code",
   "execution_count": 3,
   "metadata": {
    "ExecuteTime": {
     "end_time": "2017-09-09T08:06:41.407770Z",
     "start_time": "2017-09-09T08:06:41.341572Z"
    },
    "collapsed": false
   },
   "outputs": [
    {
     "name": "stdout",
     "output_type": "stream",
     "text": [
      "array(['ASTC', 'PAVM', 'CODA', 'WSTL', 'MICR', 'SEAC', 'GBR', 'CPST',\n",
      "       'CYAN', 'ATLC', 'WTT', 'LRAD', 'DTRM', 'AVIR', 'UTSI', 'JCS',\n",
      "       'ZDGE', 'REFR', 'FORD', 'APHB', 'JVA', 'VSR', 'BNSO', 'ARDM', 'LEU',\n",
      "       'MOC'], dtype=object)\n"
     ]
    }
   ],
   "source": [
    "stock_data = pd.read_hdf(project_dir + 'data/stock_data/raw_stock_data.hdf', 'table')\n",
    "symbols = stock_data.reset_index().ticker.unique()\n",
    "pprint(symbols)"
   ]
  },
  {
   "cell_type": "code",
   "execution_count": 4,
   "metadata": {
    "ExecuteTime": {
     "end_time": "2017-09-09T08:06:41.452957Z",
     "start_time": "2017-09-09T08:06:41.410071Z"
    },
    "collapsed": false
   },
   "outputs": [
    {
     "name": "stdout",
     "output_type": "stream",
     "text": [
      "symbol: SEAC\n",
      "                     open  high   low  close  volume\n",
      "timestamp                                           \n",
      "2017-08-09 13:45:00  2.69  2.69  2.69   2.69     100\n",
      "2017-08-09 14:05:00  2.71  2.71  2.71   2.71     100\n",
      "2017-08-09 14:26:00  2.69  2.69  2.69   2.69    6650\n",
      "2017-08-09 14:28:00  2.69  2.69  2.69   2.69     100\n",
      "2017-08-09 14:36:00  2.68  2.68  2.68   2.68     100\n",
      "              open         high          low        close        volume\n",
      "count  1082.000000  1082.000000  1082.000000  1082.000000   1082.000000\n",
      "mean      2.611044     2.613583     2.608355     2.610954    565.056377\n",
      "std       0.056887     0.056912     0.056970     0.056712   1299.321121\n",
      "min       2.460000     2.460000     2.460000     2.460000    100.000000\n",
      "25%       2.575000     2.580000     2.570000     2.580000    100.000000\n",
      "50%       2.610000     2.610000     2.600000     2.610000    100.000000\n",
      "75%       2.640000     2.645000     2.640000     2.640000    400.000000\n",
      "max       2.780000     2.780000     2.780000     2.780000  16821.000000\n",
      "       timestamp                                        \n",
      "             len                amin                amax\n",
      "ticker                                                  \n",
      "APHB        1598 2017-08-09 13:30:00 2017-09-06 15:55:00\n",
      "ARDM         530 2017-08-09 13:30:00 2017-09-06 15:53:00\n",
      "ASTC         389 2017-08-09 13:30:00 2017-09-06 15:51:00\n",
      "ATLC         268 2017-08-09 13:30:00 2017-09-06 14:53:00\n",
      "AVIR        1050 2017-08-09 13:30:00 2017-09-06 15:51:00\n",
      "BNSO         361 2017-08-09 14:05:00 2017-09-05 20:00:00\n",
      "CODA         295 2017-08-09 14:30:00 2017-09-06 15:08:00\n",
      "CPST        1224 2017-08-09 13:30:00 2017-09-06 15:58:00\n",
      "CYAN         448 2017-08-09 16:34:00 2017-09-06 14:34:00\n",
      "DTRM         661 2017-08-09 13:30:00 2017-09-06 15:58:00\n",
      "FORD         367 2017-08-09 13:30:00 2017-09-06 15:41:00\n",
      "GBR          536 2017-08-09 13:38:00 2017-09-06 15:59:00\n",
      "JCS          516 2017-08-09 13:30:00 2017-09-06 15:54:00\n",
      "JVA          347 2017-08-09 14:04:00 2017-09-06 14:47:00\n",
      "LEU          513 2017-08-09 13:30:00 2017-09-06 15:43:00\n",
      "LRAD         577 2017-08-09 13:30:00 2017-09-06 15:08:00\n",
      "MICR         386 2017-08-09 14:05:00 2017-09-06 15:35:00\n",
      "MOC          188 2017-08-09 14:27:00 2017-09-06 15:35:00\n",
      "PAVM         601 2017-08-09 15:49:00 2017-09-06 15:53:00\n",
      "REFR         522 2017-08-09 13:30:00 2017-09-06 15:58:00\n",
      "SEAC        1082 2017-08-09 13:45:00 2017-09-06 15:59:00\n",
      "UTSI         543 2017-08-09 13:45:00 2017-09-06 15:51:00\n",
      "VSR          493 2017-08-09 13:30:00 2017-09-06 15:57:00\n",
      "WSTL         632 2017-08-09 13:30:00 2017-09-06 15:20:00\n",
      "WTT          689 2017-08-09 14:14:00 2017-09-06 15:58:00\n",
      "ZDGE         344 2017-08-09 13:30:00 2017-09-06 14:38:00\n"
     ]
    }
   ],
   "source": [
    "symbol = np.random.choice(symbols)\n",
    "print 'symbol: ' + symbol\n",
    "stock_data_vis = stock_data.loc[symbol]\n",
    "print stock_data_vis.head()\n",
    "print stock_data_vis.describe()\n",
    "print stock_data.reset_index().loc[:,('ticker', 'timestamp')].groupby('ticker').agg([len, np.min, np.max])"
   ]
  },
  {
   "cell_type": "markdown",
   "metadata": {},
   "source": [
    "## Visualize the data"
   ]
  },
  {
   "cell_type": "code",
   "execution_count": 5,
   "metadata": {
    "ExecuteTime": {
     "end_time": "2017-09-09T08:06:41.740698Z",
     "start_time": "2017-09-09T08:06:41.454922Z"
    },
    "collapsed": false
   },
   "outputs": [
    {
     "data": {
      "image/png": "[encoded data removed]",
      "text/plain": [
       "<matplotlib.figure.Figure at 0x10fd11910>"
      ]
     },
     "metadata": {},
     "output_type": "display_data"
    }
   ],
   "source": [
    "# First keep the time index so we can see the time frame\n",
    "stock_data_vis.close.plot(label=symbol)\n",
    "\n",
    "plt.legend(bbox_to_anchor=(1.25, .5))\n",
    "plt.tight_layout()\n",
    "plt.ylabel(\"Close ($)\")\n",
    "sns.despine()"
   ]
  },
  {
   "cell_type": "code",
   "execution_count": 6,
   "metadata": {
    "ExecuteTime": {
     "end_time": "2017-09-09T08:06:41.995395Z",
     "start_time": "2017-09-09T08:06:41.742987Z"
    },
    "collapsed": false
   },
   "outputs": [
    {
     "data": {
      "image/png": "[encoded data removed]",
      "text/plain": [
       "<matplotlib.figure.Figure at 0x10fe63c10>"
      ]
     },
     "metadata": {},
     "output_type": "display_data"
    }
   ],
   "source": [
    "# Now drop the time index so we can see the actual stock movement\n",
    "stock_data_vis.reset_index().close.plot(label=symbol)\n",
    "stock_data_vis.reset_index().close.rolling(20).mean().plot(label='20 Min. Moving Avg.')\n",
    "\n",
    "plt.legend(bbox_to_anchor=(1.25, .5))\n",
    "plt.tight_layout()\n",
    "plt.ylabel(\"Close ($)\")\n",
    "sns.despine()"
   ]
  },
  {
   "cell_type": "markdown",
   "metadata": {},
   "source": [
    "## Adding in missing times (zero volume minutes)\n",
    "Before evaluating goals, we need to fill in the missing time steps.\n",
    "These missing time steps have zero trading volume.\n",
    "So, all of the prices for these steps are equal to the last\n",
    "closing price. All of the volumes are equal to zero."
   ]
  },
  {
   "cell_type": "code",
   "execution_count": 7,
   "metadata": {
    "ExecuteTime": {
     "end_time": "2017-09-09T08:06:42.002459Z",
     "start_time": "2017-09-09T08:06:41.997313Z"
    },
    "collapsed": false
   },
   "outputs": [],
   "source": [
    "# First reshape the index and group by ticker\n",
    "stock_data_final = stock_data.reset_index(level=0)\n",
    "grouped_stock_data = stock_data_final.groupby('ticker')"
   ]
  },
  {
   "cell_type": "code",
   "execution_count": 8,
   "metadata": {
    "ExecuteTime": {
     "end_time": "2017-09-09T08:06:42.366193Z",
     "start_time": "2017-09-09T08:06:42.005698Z"
    },
    "code_folding": [],
    "collapsed": false
   },
   "outputs": [],
   "source": [
    "## Before evaluating goals, we need to fill in the missing time steps.\n",
    "## These missing time steps have zero trading volume.\n",
    "## So, all of the prices for these steps are equal to the last\n",
    "## closing price. All of the volumes are equal to zero.\n",
    "\n",
    "stock_data_with_all_minutes = []\n",
    "for name, group in grouped_stock_data:\n",
    "    \n",
    "    # Create a dataframe of all the times\n",
    "    min_time, max_time = group.index.min(), group.index.max()\n",
    "    timeDiff = (max_time - min_time).components\n",
    "    numMinutes = timeDiff.days*24*60 + timeDiff.hours*60 + timeDiff.minutes\n",
    "\n",
    "    #alltimesIdx = pd.DatetimeIndex(start=min_time, freq=pd.tseries.offsets.Minute(1), periods=numMinutes)\n",
    "    alltimesIdx = pd.DatetimeIndex(start=min_time, freq=pd.Timedelta(minutes=1), periods=numMinutes)\n",
    "    alltimes = pd.DataFrame(index=alltimesIdx)\n",
    "\n",
    "    # Drop minutes outside of 9:30am - 4:00pm est\n",
    "    alltimes = alltimes.between_time('09:30','16:00')\n",
    "  \n",
    "    # Join on the original dataframe\n",
    "    alltimes_group = alltimes.join(group)\n",
    "    \n",
    "    # Forward fill the NaN closing prices \n",
    "    alltimes_group.loc[:,('ticker', 'close')] = alltimes_group.loc[:,('ticker', 'close')].\\\n",
    "                                                    fillna(method='ffill', axis=0)\n",
    "    \n",
    "    # Assign all price variables to the close price\n",
    "    alltimes_group.loc[:,'open':'close'] = alltimes_group.loc[:,'open':'close'].\\\n",
    "                                                fillna(method='bfill', axis=1)\n",
    "    \n",
    "    # Assign all NaN volumes to zero\n",
    "    alltimes_group.loc[:, 'volume'] = alltimes_group.loc[:, 'volume'].fillna(value=0)\n",
    "    \n",
    "    stock_data_with_all_minutes.append(alltimes_group)\n",
    "    \n",
    "stock_data_with_all_minutes = pd.concat(stock_data_with_all_minutes)\n",
    "stock_data_with_all_minutes.index.name = 'timestamp'"
   ]
  },
  {
   "cell_type": "code",
   "execution_count": 9,
   "metadata": {
    "ExecuteTime": {
     "end_time": "2017-09-09T08:06:42.455167Z",
     "start_time": "2017-09-09T08:06:42.368135Z"
    },
    "collapsed": false
   },
   "outputs": [
    {
     "data": {
      "text/html": [
       "<div>\n",
       "<style>\n",
       "    .dataframe thead tr:only-child th {\n",
       "        text-align: right;\n",
       "    }\n",
       "\n",
       "    .dataframe thead th {\n",
       "        text-align: left;\n",
       "    }\n",
       "\n",
       "    .dataframe tbody tr th {\n",
       "        vertical-align: top;\n",
       "    }\n",
       "</style>\n",
       "<table border=\"1\" class=\"dataframe\">\n",
       "  <thead>\n",
       "    <tr>\n",
       "      <th></th>\n",
       "      <th colspan=\"3\" halign=\"left\">timestamp</th>\n",
       "    </tr>\n",
       "    <tr>\n",
       "      <th></th>\n",
       "      <th>len</th>\n",
       "      <th>min</th>\n",
       "      <th>max</th>\n",
       "    </tr>\n",
       "    <tr>\n",
       "      <th>ticker</th>\n",
       "      <th></th>\n",
       "      <th></th>\n",
       "      <th></th>\n",
       "    </tr>\n",
       "  </thead>\n",
       "  <tbody>\n",
       "    <tr>\n",
       "      <th>APHB</th>\n",
       "      <td>11093</td>\n",
       "      <td>2017-08-09 13:30:00</td>\n",
       "      <td>2017-09-06 15:54:00</td>\n",
       "    </tr>\n",
       "    <tr>\n",
       "      <th>ARDM</th>\n",
       "      <td>11091</td>\n",
       "      <td>2017-08-09 13:30:00</td>\n",
       "      <td>2017-09-06 15:52:00</td>\n",
       "    </tr>\n",
       "    <tr>\n",
       "      <th>ASTC</th>\n",
       "      <td>11089</td>\n",
       "      <td>2017-08-09 13:30:00</td>\n",
       "      <td>2017-09-06 15:50:00</td>\n",
       "    </tr>\n",
       "    <tr>\n",
       "      <th>ATLC</th>\n",
       "      <td>11031</td>\n",
       "      <td>2017-08-09 13:30:00</td>\n",
       "      <td>2017-09-06 14:52:00</td>\n",
       "    </tr>\n",
       "    <tr>\n",
       "      <th>AVIR</th>\n",
       "      <td>11089</td>\n",
       "      <td>2017-08-09 13:30:00</td>\n",
       "      <td>2017-09-06 15:50:00</td>\n",
       "    </tr>\n",
       "    <tr>\n",
       "      <th>BNSO</th>\n",
       "      <td>10673</td>\n",
       "      <td>2017-08-09 14:05:00</td>\n",
       "      <td>2017-09-05 16:00:00</td>\n",
       "    </tr>\n",
       "    <tr>\n",
       "      <th>CODA</th>\n",
       "      <td>10986</td>\n",
       "      <td>2017-08-09 14:30:00</td>\n",
       "      <td>2017-09-06 15:07:00</td>\n",
       "    </tr>\n",
       "    <tr>\n",
       "      <th>CPST</th>\n",
       "      <td>11096</td>\n",
       "      <td>2017-08-09 13:30:00</td>\n",
       "      <td>2017-09-06 15:57:00</td>\n",
       "    </tr>\n",
       "    <tr>\n",
       "      <th>CYAN</th>\n",
       "      <td>10621</td>\n",
       "      <td>2017-08-10 13:30:00</td>\n",
       "      <td>2017-09-06 14:33:00</td>\n",
       "    </tr>\n",
       "    <tr>\n",
       "      <th>DTRM</th>\n",
       "      <td>11096</td>\n",
       "      <td>2017-08-09 13:30:00</td>\n",
       "      <td>2017-09-06 15:57:00</td>\n",
       "    </tr>\n",
       "    <tr>\n",
       "      <th>FORD</th>\n",
       "      <td>11079</td>\n",
       "      <td>2017-08-09 13:30:00</td>\n",
       "      <td>2017-09-06 15:40:00</td>\n",
       "    </tr>\n",
       "    <tr>\n",
       "      <th>GBR</th>\n",
       "      <td>11089</td>\n",
       "      <td>2017-08-09 13:38:00</td>\n",
       "      <td>2017-09-06 15:58:00</td>\n",
       "    </tr>\n",
       "    <tr>\n",
       "      <th>JCS</th>\n",
       "      <td>11092</td>\n",
       "      <td>2017-08-09 13:30:00</td>\n",
       "      <td>2017-09-06 15:53:00</td>\n",
       "    </tr>\n",
       "    <tr>\n",
       "      <th>JVA</th>\n",
       "      <td>10991</td>\n",
       "      <td>2017-08-09 14:04:00</td>\n",
       "      <td>2017-09-06 14:46:00</td>\n",
       "    </tr>\n",
       "    <tr>\n",
       "      <th>LEU</th>\n",
       "      <td>11081</td>\n",
       "      <td>2017-08-09 13:30:00</td>\n",
       "      <td>2017-09-06 15:42:00</td>\n",
       "    </tr>\n",
       "    <tr>\n",
       "      <th>LRAD</th>\n",
       "      <td>11046</td>\n",
       "      <td>2017-08-09 13:30:00</td>\n",
       "      <td>2017-09-06 15:07:00</td>\n",
       "    </tr>\n",
       "    <tr>\n",
       "      <th>MICR</th>\n",
       "      <td>11038</td>\n",
       "      <td>2017-08-09 14:05:00</td>\n",
       "      <td>2017-09-06 15:34:00</td>\n",
       "    </tr>\n",
       "    <tr>\n",
       "      <th>MOC</th>\n",
       "      <td>11016</td>\n",
       "      <td>2017-08-09 14:27:00</td>\n",
       "      <td>2017-09-06 15:34:00</td>\n",
       "    </tr>\n",
       "    <tr>\n",
       "      <th>PAVM</th>\n",
       "      <td>10952</td>\n",
       "      <td>2017-08-09 15:49:00</td>\n",
       "      <td>2017-09-06 15:52:00</td>\n",
       "    </tr>\n",
       "    <tr>\n",
       "      <th>REFR</th>\n",
       "      <td>11096</td>\n",
       "      <td>2017-08-09 13:30:00</td>\n",
       "      <td>2017-09-06 15:57:00</td>\n",
       "    </tr>\n",
       "    <tr>\n",
       "      <th>SEAC</th>\n",
       "      <td>11082</td>\n",
       "      <td>2017-08-09 13:45:00</td>\n",
       "      <td>2017-09-06 15:58:00</td>\n",
       "    </tr>\n",
       "    <tr>\n",
       "      <th>UTSI</th>\n",
       "      <td>11074</td>\n",
       "      <td>2017-08-09 13:45:00</td>\n",
       "      <td>2017-09-06 15:50:00</td>\n",
       "    </tr>\n",
       "    <tr>\n",
       "      <th>VSR</th>\n",
       "      <td>11095</td>\n",
       "      <td>2017-08-09 13:30:00</td>\n",
       "      <td>2017-09-06 15:56:00</td>\n",
       "    </tr>\n",
       "    <tr>\n",
       "      <th>WSTL</th>\n",
       "      <td>11058</td>\n",
       "      <td>2017-08-09 13:30:00</td>\n",
       "      <td>2017-09-06 15:19:00</td>\n",
       "    </tr>\n",
       "    <tr>\n",
       "      <th>WTT</th>\n",
       "      <td>11052</td>\n",
       "      <td>2017-08-09 14:14:00</td>\n",
       "      <td>2017-09-06 15:57:00</td>\n",
       "    </tr>\n",
       "    <tr>\n",
       "      <th>ZDGE</th>\n",
       "      <td>11016</td>\n",
       "      <td>2017-08-09 13:30:00</td>\n",
       "      <td>2017-09-06 14:37:00</td>\n",
       "    </tr>\n",
       "  </tbody>\n",
       "</table>\n",
       "</div>"
      ],
      "text/plain": [
       "       timestamp                                        \n",
       "             len                 min                 max\n",
       "ticker                                                  \n",
       "APHB       11093 2017-08-09 13:30:00 2017-09-06 15:54:00\n",
       "ARDM       11091 2017-08-09 13:30:00 2017-09-06 15:52:00\n",
       "ASTC       11089 2017-08-09 13:30:00 2017-09-06 15:50:00\n",
       "ATLC       11031 2017-08-09 13:30:00 2017-09-06 14:52:00\n",
       "AVIR       11089 2017-08-09 13:30:00 2017-09-06 15:50:00\n",
       "BNSO       10673 2017-08-09 14:05:00 2017-09-05 16:00:00\n",
       "CODA       10986 2017-08-09 14:30:00 2017-09-06 15:07:00\n",
       "CPST       11096 2017-08-09 13:30:00 2017-09-06 15:57:00\n",
       "CYAN       10621 2017-08-10 13:30:00 2017-09-06 14:33:00\n",
       "DTRM       11096 2017-08-09 13:30:00 2017-09-06 15:57:00\n",
       "FORD       11079 2017-08-09 13:30:00 2017-09-06 15:40:00\n",
       "GBR        11089 2017-08-09 13:38:00 2017-09-06 15:58:00\n",
       "JCS        11092 2017-08-09 13:30:00 2017-09-06 15:53:00\n",
       "JVA        10991 2017-08-09 14:04:00 2017-09-06 14:46:00\n",
       "LEU        11081 2017-08-09 13:30:00 2017-09-06 15:42:00\n",
       "LRAD       11046 2017-08-09 13:30:00 2017-09-06 15:07:00\n",
       "MICR       11038 2017-08-09 14:05:00 2017-09-06 15:34:00\n",
       "MOC        11016 2017-08-09 14:27:00 2017-09-06 15:34:00\n",
       "PAVM       10952 2017-08-09 15:49:00 2017-09-06 15:52:00\n",
       "REFR       11096 2017-08-09 13:30:00 2017-09-06 15:57:00\n",
       "SEAC       11082 2017-08-09 13:45:00 2017-09-06 15:58:00\n",
       "UTSI       11074 2017-08-09 13:45:00 2017-09-06 15:50:00\n",
       "VSR        11095 2017-08-09 13:30:00 2017-09-06 15:56:00\n",
       "WSTL       11058 2017-08-09 13:30:00 2017-09-06 15:19:00\n",
       "WTT        11052 2017-08-09 14:14:00 2017-09-06 15:57:00\n",
       "ZDGE       11016 2017-08-09 13:30:00 2017-09-06 14:37:00"
      ]
     },
     "execution_count": 9,
     "metadata": {},
     "output_type": "execute_result"
    }
   ],
   "source": [
    "stock_data_with_all_minutes.reset_index().loc[:,('ticker', 'timestamp')].groupby('ticker').agg([len, min, max])"
   ]
  },
  {
   "cell_type": "markdown",
   "metadata": {
    "collapsed": true
   },
   "source": [
    "## Logic for getting goal information"
   ]
  },
  {
   "cell_type": "code",
   "execution_count": 10,
   "metadata": {
    "ExecuteTime": {
     "end_time": "2017-09-09T08:06:42.497125Z",
     "start_time": "2017-09-09T08:06:42.457629Z"
    },
    "collapsed": false
   },
   "outputs": [],
   "source": [
    "def get_min_max(data, starttime, endtime):\n",
    "    \"\"\"\n",
    "    This function takes data for a specific ticker and returns the min and max prices.\n",
    "    \"\"\"\n",
    "    subdata = data.loc[starttime:endtime]\n",
    "    \n",
    "    return (subdata.low.min(), subdata.high.max())\n",
    "    \n",
    "def is_goal_met(data, timestep, goal_time_from_step, goal_duration, goal_raise_frac = 0.1, goal_drop_frac=0.1):\n",
    "    \"\"\"\n",
    "    This function takes data for a specific ticker, a time index for that ticker, goal parameters, and \n",
    "    returns a boolean indicating whether or not the goal is satisfied for that timestep.\n",
    "    \"\"\"\n",
    "    \n",
    "    # Assign a status message to record various special cases\n",
    "    statusMessage = \"\"\n",
    "    \n",
    "    #Convert time variables to appropriate numpyt date types\n",
    "    td_goal_time_from_step = np.timedelta64(goal_time_from_step, 'm')\n",
    "    td_goal_duration = np.timedelta64(goal_duration, 'm')\n",
    "    \n",
    "    # Calculate the start and end times of the goal time window\n",
    "    goal_starttime = np.datetime64(timestep + td_goal_time_from_step)\n",
    "    goal_endtime = np.datetime64(goal_starttime + td_goal_duration)\n",
    "    \n",
    "    if goal_endtime > np.datetime64(data.index.max()):\n",
    "        statusMessage = \"Goal time window end time lies beyond available data.\"\n",
    "    \n",
    "    # Get the data for goal checking in that time window\n",
    "    subdata = data.loc[goal_starttime:goal_endtime]\n",
    "    \n",
    "    # Get the minimum and maximum prices for the goal time window\n",
    "    min_price, max_price = get_min_max(data, goal_starttime, goal_endtime)\n",
    "    if np.isnan(min_price) | np.isnan(max_price):\n",
    "        # Zero trading volume in time window. Get last prices.\n",
    "        most_recent_time_with_transactions = np.max(data.loc[:goal_starttime].index)\n",
    "        if most_recent_time_with_transactions == timestep:\n",
    "            statusMessage = statusMessage + \" Zero trading volume between current timestep and goal time window end.\"\n",
    "            return {'timestamp': timestep,\n",
    "                    'goal_met': False,\n",
    "                    'raise_goal_met': False,\n",
    "                    'drop_goal_met': True,\n",
    "                    'statusMessage': statusMessage}\n",
    "        else:\n",
    "            min_price, max_price = data.loc[timestep, 'low'], data.loc[timestep, 'high']\n",
    "        \n",
    "        \n",
    "    # Determine if goals were met\n",
    "    # TODO: is this the right reference for the 'current price'?\n",
    "    current_price = np.mean(data.loc[timestep, ['high', 'close']])\n",
    "    \n",
    "    # Is raise goal met? Return true if max price at least (1+goal_raise_frac) * current_price\n",
    "    is_raise_goal_met = max_price >= (1+goal_raise_frac) * current_price\n",
    "    \n",
    "    # Is drop goal met? Return true if min price at least (1-goal_drop_frac) * current_price\n",
    "    is_drop_goal_met = min_price >= (1-goal_drop_frac) * current_price\n",
    "    \n",
    "    # Return dict containing raise and drop goals and product for convenience\n",
    "    return {'timestamp': timestep,\n",
    "        'goal_met': is_raise_goal_met * is_drop_goal_met, \n",
    "            'raise_goal_met': is_raise_goal_met, \n",
    "            'drop_goal_met': is_drop_goal_met,\n",
    "             'statusMessage': statusMessage}"
   ]
  },
  {
   "cell_type": "code",
   "execution_count": 11,
   "metadata": {
    "ExecuteTime": {
     "end_time": "2017-09-09T08:06:42.510584Z",
     "start_time": "2017-09-09T08:06:42.498911Z"
    },
    "collapsed": false
   },
   "outputs": [
    {
     "data": {
      "text/plain": [
       "(2.5600000000000001, 2.6899999999999999)"
      ]
     },
     "execution_count": 11,
     "metadata": {},
     "output_type": "execute_result"
    }
   ],
   "source": [
    "# test get_min_max\n",
    "get_min_max(stock_data_vis, '2017-08-28', '2017-08-30')"
   ]
  },
  {
   "cell_type": "code",
   "execution_count": 12,
   "metadata": {
    "ExecuteTime": {
     "end_time": "2017-09-09T08:06:48.609743Z",
     "start_time": "2017-09-09T08:06:42.513242Z"
    },
    "collapsed": false
   },
   "outputs": [
    {
     "name": "stdout",
     "output_type": "stream",
     "text": [
      "Random time: 2017-08-22T19:09:00.000000000\n",
      "1000 loops, best of 3: 1.42 ms per loop\n"
     ]
    }
   ],
   "source": [
    "# test is_goal_met\n",
    "random_time_index = np.random.choice(stock_data_vis.index.values)\n",
    "print \"Random time: \" + str(random_time_index)\n",
    "%timeit is_goal_met(stock_data_vis, random_time_index, 0, 1000)"
   ]
  },
  {
   "cell_type": "markdown",
   "metadata": {},
   "source": [
    "## Get goal tags for all data"
   ]
  },
  {
   "cell_type": "code",
   "execution_count": 13,
   "metadata": {
    "ExecuteTime": {
     "end_time": "2017-09-09T08:06:48.617121Z",
     "start_time": "2017-09-09T08:06:48.611582Z"
    },
    "collapsed": false
   },
   "outputs": [],
   "source": [
    "# first define a function that tags for one ticker\n",
    "def get_tagged_stock_data(data, \n",
    "                          ticker, \n",
    "                          goal_time_from_step, \n",
    "                          goal_duration, \n",
    "                          goal_raise_frac = 0.1, \n",
    "                          goal_drop_frac=0.1):\n",
    "    # Loop over the timestamps building a dictionary of the tagging information\n",
    "    tagged_stock_data = []\n",
    "    for timestep in data.index:\n",
    "        goal_dict = is_goal_met(data, timestep, goal_time_from_step, goal_duration, goal_raise_frac, goal_drop_frac)\n",
    "        tagged_stock_data.append(goal_dict)\n",
    "    # Convert to pandas and return\n",
    "    return pd.DataFrame(tagged_stock_data).set_index('timestamp')"
   ]
  },
  {
   "cell_type": "code",
   "execution_count": 15,
   "metadata": {
    "ExecuteTime": {
     "end_time": "2017-09-09T08:13:58.758661Z",
     "start_time": "2017-09-09T08:07:35.809030Z"
    },
    "collapsed": false
   },
   "outputs": [
    {
     "name": "stdout",
     "output_type": "stream",
     "text": [
      "Progress: 0 of 26 tickers. Current ticker: APHB\n",
      "Progress: 1 of 26 tickers. Current ticker: ARDM\n",
      "Progress: 2 of 26 tickers. Current ticker: ASTC\n",
      "Progress: 3 of 26 tickers. Current ticker: ATLC\n",
      "Progress: 4 of 26 tickers. Current ticker: AVIR\n",
      "Progress: 5 of 26 tickers. Current ticker: BNSO\n",
      "Progress: 6 of 26 tickers. Current ticker: CODA\n",
      "Progress: 7 of 26 tickers. Current ticker: CPST\n",
      "Progress: 8 of 26 tickers. Current ticker: CYAN\n",
      "Progress: 9 of 26 tickers. Current ticker: DTRM\n",
      "Progress: 10 of 26 tickers. Current ticker: FORD\n",
      "Progress: 11 of 26 tickers. Current ticker: GBR\n",
      "Progress: 12 of 26 tickers. Current ticker: JCS\n",
      "Progress: 13 of 26 tickers. Current ticker: JVA\n",
      "Progress: 14 of 26 tickers. Current ticker: LEU\n",
      "Progress: 15 of 26 tickers. Current ticker: LRAD\n",
      "Progress: 16 of 26 tickers. Current ticker: MICR\n",
      "Progress: 17 of 26 tickers. Current ticker: MOC\n",
      "Progress: 18 of 26 tickers. Current ticker: PAVM\n",
      "Progress: 19 of 26 tickers. Current ticker: REFR\n",
      "Progress: 20 of 26 tickers. Current ticker: SEAC\n",
      "Progress: 21 of 26 tickers. Current ticker: UTSI\n",
      "Progress: 22 of 26 tickers. Current ticker: VSR\n",
      "Progress: 23 of 26 tickers. Current ticker: WSTL\n",
      "Progress: 24 of 26 tickers. Current ticker: WTT\n",
      "Progress: 25 of 26 tickers. Current ticker: ZDGE\n"
     ]
    }
   ],
   "source": [
    "start_delay = 0 # minutes\n",
    "duration = 120 # minutes (next half hour)\n",
    "raise_fraction = 0.05\n",
    "drop_fraction = 0.05\n",
    "list_tagged_tickers = []\n",
    "for i, (symbol, group) in enumerate(stock_data_with_all_minutes.groupby('ticker')):\n",
    "    print \"Progress: {} of {} tickers. Current ticker: {}\".format(i, len(symbols), symbol)\n",
    "    \n",
    "    # get the tag data for this symbol\n",
    "    tag_data = get_tagged_stock_data(group, symbol, start_delay, duration, raise_fraction, drop_fraction)\n",
    "    \n",
    "    # join tag data back onto the group data\n",
    "    merged_data = group.join(tag_data)\n",
    "    \n",
    "    # Append to the list of tagged data\n",
    "    list_tagged_tickers.append(merged_data)\n",
    "    \n",
    "# Concatenate all the groups\n",
    "all_tagged_data = pd.concat(list_tagged_tickers)"
   ]
  },
  {
   "cell_type": "code",
   "execution_count": 18,
   "metadata": {
    "ExecuteTime": {
     "end_time": "2017-09-09T08:22:05.145309Z",
     "start_time": "2017-09-09T08:22:05.059183Z"
    },
    "collapsed": false
   },
   "outputs": [
    {
     "name": "stdout",
     "output_type": "stream",
     "text": [
      "drop_goal_met     275998\n",
      "goal_met           11801\n",
      "raise_goal_met     12442\n",
      "dtype: int64\n"
     ]
    }
   ],
   "source": [
    "#print all_tagged_data.goal_met.value_counts()\n",
    "#print all_tagged_data.statusMessage.value_counts()\n",
    "print all_tagged_data.groupby('ticker').agg({'goal_met': lambda x: x[x].shape[0],\n",
    "'raise_goal_met': lambda x: x[x].shape[0],\n",
    "'drop_goal_met': lambda x: x[x].shape[0]}).agg(np.sum)"
   ]
  },
  {
   "cell_type": "markdown",
   "metadata": {
    "collapsed": true
   },
   "source": [
    "## Save data to hdf"
   ]
  },
  {
   "cell_type": "code",
   "execution_count": 17,
   "metadata": {
    "ExecuteTime": {
     "end_time": "2017-09-09T08:13:58.966636Z",
     "start_time": "2017-09-09T08:13:58.846979Z"
    },
    "collapsed": false
   },
   "outputs": [
    {
     "name": "stderr",
     "output_type": "stream",
     "text": [
      "/anaconda/lib/python2.7/site-packages/pandas/io/pytables.py:280: PerformanceWarning: \n",
      "your performance may suffer as PyTables will pickle object types that it cannot\n",
      "map directly to c-types [inferred_type->mixed,key->axis0] [items->None]\n",
      "\n",
      "  f(store)\n",
      "/anaconda/lib/python2.7/site-packages/pandas/io/pytables.py:280: PerformanceWarning: \n",
      "your performance may suffer as PyTables will pickle object types that it cannot\n",
      "map directly to c-types [inferred_type->mixed,key->block2_items] [items->None]\n",
      "\n",
      "  f(store)\n"
     ]
    }
   ],
   "source": [
    "all_tagged_data.to_hdf(project_dir + 'data/stock_data/tagged_stock_data.hdf', 'table')"
   ]
  },
  {
   "cell_type": "code",
   "execution_count": null,
   "metadata": {
    "collapsed": true
   },
   "outputs": [],
   "source": []
  }
 ],
 "metadata": {
  "kernelspec": {
   "display_name": "Python 2",
   "language": "python",
   "name": "python2"
  },
  "language_info": {
   "codemirror_mode": {
    "name": "ipython",
    "version": 2
   },
   "file_extension": ".py",
   "mimetype": "text/x-python",
   "name": "python",
   "nbconvert_exporter": "python",
   "pygments_lexer": "ipython2",
   "version": "2.7.13"
  }
 },
 "nbformat": 4,
 "nbformat_minor": 2
}
