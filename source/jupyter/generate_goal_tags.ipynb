{
 "cells": [
  {
   "cell_type": "markdown",
   "metadata": {},
   "source": [
    "## Import necessary modules"
   ]
  },
  {
   "cell_type": "code",
   "execution_count": 127,
   "metadata": {
    "ExecuteTime": {
     "end_time": "2017-09-06T07:03:51.193137Z",
     "start_time": "2017-09-06T07:03:51.186906Z"
    },
    "collapsed": false
   },
   "outputs": [],
   "source": [
    "import time\n",
    "import pandas as pd\n",
    "import numpy as np\n",
    "import datetime as dt\n",
    "from copy import copy\n",
    "import warnings\n",
    "import matplotlib.pyplot as plt\n",
    "import seaborn as sns\n",
    "from pprint import pprint\n",
    "%matplotlib inline"
   ]
  },
  {
   "cell_type": "markdown",
   "metadata": {},
   "source": [
    "## Filepath management"
   ]
  },
  {
   "cell_type": "code",
   "execution_count": 128,
   "metadata": {
    "ExecuteTime": {
     "end_time": "2017-09-06T07:03:51.884562Z",
     "start_time": "2017-09-06T07:03:51.881695Z"
    },
    "collapsed": true
   },
   "outputs": [],
   "source": [
    "project_dir = r'/Users/hudson/Code/marketModel/'"
   ]
  },
  {
   "cell_type": "markdown",
   "metadata": {},
   "source": [
    "## Load the data from the hdf store"
   ]
  },
  {
   "cell_type": "code",
   "execution_count": 129,
   "metadata": {
    "ExecuteTime": {
     "end_time": "2017-09-06T07:03:52.610388Z",
     "start_time": "2017-09-06T07:03:52.593161Z"
    },
    "collapsed": false
   },
   "outputs": [
    {
     "name": "stdout",
     "output_type": "stream",
     "text": [
      "array(['ASTC', 'PAVM', 'CODA', 'WSTL', 'MICR', 'SEAC', 'GBR', 'CPST',\n",
      "       'CYAN', 'ATLC', 'WTT', 'LRAD', 'DTRM', 'AVIR', 'UTSI', 'JCS',\n",
      "       'ZDGE', 'REFR', 'FORD', 'APHB', 'JVA', 'VSR', 'BNSO', 'ARDM', 'LEU',\n",
      "       'MOC'], dtype=object)\n"
     ]
    }
   ],
   "source": [
    "stock_data = pd.read_hdf(project_dir + 'data/stock_data/raw_stock_data.hdf', 'table')\n",
    "symbols = stock_data.reset_index().ticker.unique()\n",
    "pprint(symbols)"
   ]
  },
  {
   "cell_type": "markdown",
   "metadata": {},
   "source": [
    "## Visualize the data"
   ]
  },
  {
   "cell_type": "code",
   "execution_count": 130,
   "metadata": {
    "ExecuteTime": {
     "end_time": "2017-09-06T07:03:53.463766Z",
     "start_time": "2017-09-06T07:03:53.446107Z"
    },
    "collapsed": false
   },
   "outputs": [
    {
     "name": "stdout",
     "output_type": "stream",
     "text": [
      "symbol: ARDM\n"
     ]
    },
    {
     "data": {
      "text/html": [
       "<div>\n",
       "<style>\n",
       "    .dataframe thead tr:only-child th {\n",
       "        text-align: right;\n",
       "    }\n",
       "\n",
       "    .dataframe thead th {\n",
       "        text-align: left;\n",
       "    }\n",
       "\n",
       "    .dataframe tbody tr th {\n",
       "        vertical-align: top;\n",
       "    }\n",
       "</style>\n",
       "<table border=\"1\" class=\"dataframe\">\n",
       "  <thead>\n",
       "    <tr style=\"text-align: right;\">\n",
       "      <th></th>\n",
       "      <th>open</th>\n",
       "      <th>high</th>\n",
       "      <th>low</th>\n",
       "      <th>close</th>\n",
       "      <th>volume</th>\n",
       "    </tr>\n",
       "    <tr>\n",
       "      <th>timestamp</th>\n",
       "      <th></th>\n",
       "      <th></th>\n",
       "      <th></th>\n",
       "      <th></th>\n",
       "      <th></th>\n",
       "    </tr>\n",
       "  </thead>\n",
       "  <tbody>\n",
       "    <tr>\n",
       "      <th>2017-08-28 13:30:00</th>\n",
       "      <td>1.2800</td>\n",
       "      <td>1.2800</td>\n",
       "      <td>1.2800</td>\n",
       "      <td>1.2800</td>\n",
       "      <td>3857</td>\n",
       "    </tr>\n",
       "    <tr>\n",
       "      <th>2017-08-28 13:58:00</th>\n",
       "      <td>1.3100</td>\n",
       "      <td>1.3100</td>\n",
       "      <td>1.3100</td>\n",
       "      <td>1.3100</td>\n",
       "      <td>100</td>\n",
       "    </tr>\n",
       "    <tr>\n",
       "      <th>2017-08-28 14:33:00</th>\n",
       "      <td>1.2972</td>\n",
       "      <td>1.2972</td>\n",
       "      <td>1.2972</td>\n",
       "      <td>1.2972</td>\n",
       "      <td>1390</td>\n",
       "    </tr>\n",
       "    <tr>\n",
       "      <th>2017-08-28 14:43:00</th>\n",
       "      <td>1.2922</td>\n",
       "      <td>1.2922</td>\n",
       "      <td>1.2922</td>\n",
       "      <td>1.2922</td>\n",
       "      <td>100</td>\n",
       "    </tr>\n",
       "    <tr>\n",
       "      <th>2017-08-28 15:11:00</th>\n",
       "      <td>1.3000</td>\n",
       "      <td>1.3000</td>\n",
       "      <td>1.3000</td>\n",
       "      <td>1.3000</td>\n",
       "      <td>100</td>\n",
       "    </tr>\n",
       "  </tbody>\n",
       "</table>\n",
       "</div>"
      ],
      "text/plain": [
       "                       open    high     low   close  volume\n",
       "timestamp                                                  \n",
       "2017-08-28 13:30:00  1.2800  1.2800  1.2800  1.2800    3857\n",
       "2017-08-28 13:58:00  1.3100  1.3100  1.3100  1.3100     100\n",
       "2017-08-28 14:33:00  1.2972  1.2972  1.2972  1.2972    1390\n",
       "2017-08-28 14:43:00  1.2922  1.2922  1.2922  1.2922     100\n",
       "2017-08-28 15:11:00  1.3000  1.3000  1.3000  1.3000     100"
      ]
     },
     "execution_count": 130,
     "metadata": {},
     "output_type": "execute_result"
    }
   ],
   "source": [
    "symbol = np.random.choice(symbols)\n",
    "print 'symbol: ' + symbol\n",
    "stock_data_vis = stock_data.loc[symbol]\n",
    "stock_data_vis.head()"
   ]
  },
  {
   "cell_type": "code",
   "execution_count": 131,
   "metadata": {
    "ExecuteTime": {
     "end_time": "2017-09-06T07:03:54.518789Z",
     "start_time": "2017-09-06T07:03:54.298014Z"
    },
    "collapsed": false
   },
   "outputs": [
    {
     "data": {
      "image/png": "[encoded data removed]",
      "text/plain": [
       "<matplotlib.figure.Figure at 0x11d3f7250>"
      ]
     },
     "metadata": {},
     "output_type": "display_data"
    }
   ],
   "source": [
    "# First keep the time index so we can see the time frame\n",
    "stock_data_vis.close.plot(label=symbol)\n",
    "\n",
    "plt.legend(bbox_to_anchor=(1.25, .5))\n",
    "plt.tight_layout()\n",
    "plt.ylabel(\"Close ($)\")\n",
    "sns.despine()"
   ]
  },
  {
   "cell_type": "code",
   "execution_count": 132,
   "metadata": {
    "ExecuteTime": {
     "end_time": "2017-09-06T07:04:00.547987Z",
     "start_time": "2017-09-06T07:04:00.315235Z"
    },
    "collapsed": false
   },
   "outputs": [
    {
     "data": {
      "image/png": "[encoded data removed]",
      "text/plain": [
       "<matplotlib.figure.Figure at 0x11e259510>"
      ]
     },
     "metadata": {},
     "output_type": "display_data"
    }
   ],
   "source": [
    "# Now drop the time index so we can see the actual stock movement\n",
    "stock_data_vis.reset_index().close.plot(label=symbol)\n",
    "stock_data_vis.reset_index().close.rolling(20).mean().plot(label='20 Min. Moving Avg.')\n",
    "\n",
    "plt.legend(bbox_to_anchor=(1.25, .5))\n",
    "plt.tight_layout()\n",
    "plt.ylabel(\"Close ($)\")\n",
    "sns.despine()"
   ]
  },
  {
   "cell_type": "markdown",
   "metadata": {
    "collapsed": true
   },
   "source": [
    "## Logic for getting goal information"
   ]
  },
  {
   "cell_type": "code",
   "execution_count": 133,
   "metadata": {
    "ExecuteTime": {
     "end_time": "2017-09-06T07:04:04.042200Z",
     "start_time": "2017-09-06T07:04:04.029572Z"
    },
    "collapsed": false
   },
   "outputs": [],
   "source": [
    "def get_min_max(data, starttime, endtime):\n",
    "    \"\"\"\n",
    "    This function takes data for a specific ticker and returns the min and max prices.\n",
    "    \"\"\"\n",
    "    subdata = data.loc[starttime:endtime]\n",
    "    \n",
    "    return (subdata.low.min(), subdata.high.max())\n",
    "    \n",
    "def is_goal_met(data, timestep, goal_time_from_step, goal_duration, goal_raise_percent = 0.2, goal_drop_percent=-0.2):\n",
    "    \"\"\"\n",
    "    This function takes data for a specific ticker, a time index for that ticker, goal parameters, and \n",
    "    returns a boolean indicating whether or not the goal is satisfied for that timestep.\n",
    "    \"\"\"\n",
    "    \n",
    "    # Convert time variables to appropriate numpyt date types\n",
    "    td_goal_time_from_step = np.timedelta64(goal_time_from_step, 'm')\n",
    "    td_goal_duration = np.timedelta64(goal_duration, 'm')\n",
    "    \n",
    "    # Calculate the start and end times of the goal time window\n",
    "    goal_starttime = timestep + td_goal_time_from_step\n",
    "    goal_endtime = goal_starttime + td_goal_duration\n",
    "\n",
    "    print (goal_starttime, goal_endtime)\n",
    "\n",
    "    # Get the data for goal checking in that time window\n",
    "    subdata = data.loc[goal_starttime:goal_endtime]\n",
    "\n",
    "    return(subdata)\n"
   ]
  },
  {
   "cell_type": "code",
   "execution_count": 135,
   "metadata": {
    "ExecuteTime": {
     "end_time": "2017-09-06T07:04:25.467757Z",
     "start_time": "2017-09-06T07:04:25.461855Z"
    },
    "collapsed": false
   },
   "outputs": [
    {
     "data": {
      "text/plain": [
       "(1.28, 1.4299999999999999)"
      ]
     },
     "execution_count": 135,
     "metadata": {},
     "output_type": "execute_result"
    }
   ],
   "source": [
    "# test get_min_max\n",
    "get_min_max(stock_data_vis, '2017-08-28', '2017-08-30')"
   ]
  },
  {
   "cell_type": "code",
   "execution_count": 140,
   "metadata": {
    "ExecuteTime": {
     "end_time": "2017-09-06T07:04:41.314178Z",
     "start_time": "2017-09-06T07:04:41.299492Z"
    },
    "collapsed": false
   },
   "outputs": [
    {
     "name": "stdout",
     "output_type": "stream",
     "text": [
      "Random time: 2017-08-30T19:54:00.000000000\n",
      "(numpy.datetime64('2017-08-30T19:59:00.000000000'), numpy.datetime64('2017-08-30T20:09:00.000000000'))\n"
     ]
    },
    {
     "data": {
      "text/html": [
       "<div>\n",
       "<style>\n",
       "    .dataframe thead tr:only-child th {\n",
       "        text-align: right;\n",
       "    }\n",
       "\n",
       "    .dataframe thead th {\n",
       "        text-align: left;\n",
       "    }\n",
       "\n",
       "    .dataframe tbody tr th {\n",
       "        vertical-align: top;\n",
       "    }\n",
       "</style>\n",
       "<table border=\"1\" class=\"dataframe\">\n",
       "  <thead>\n",
       "    <tr style=\"text-align: right;\">\n",
       "      <th></th>\n",
       "      <th>open</th>\n",
       "      <th>high</th>\n",
       "      <th>low</th>\n",
       "      <th>close</th>\n",
       "      <th>volume</th>\n",
       "    </tr>\n",
       "    <tr>\n",
       "      <th>timestamp</th>\n",
       "      <th></th>\n",
       "      <th></th>\n",
       "      <th></th>\n",
       "      <th></th>\n",
       "      <th></th>\n",
       "    </tr>\n",
       "  </thead>\n",
       "  <tbody>\n",
       "    <tr>\n",
       "      <th>2017-08-30 19:59:00</th>\n",
       "      <td>1.3578</td>\n",
       "      <td>1.38</td>\n",
       "      <td>1.33</td>\n",
       "      <td>1.38</td>\n",
       "      <td>1700</td>\n",
       "    </tr>\n",
       "  </tbody>\n",
       "</table>\n",
       "</div>"
      ],
      "text/plain": [
       "                       open  high   low  close  volume\n",
       "timestamp                                             \n",
       "2017-08-30 19:59:00  1.3578  1.38  1.33   1.38    1700"
      ]
     },
     "execution_count": 140,
     "metadata": {},
     "output_type": "execute_result"
    }
   ],
   "source": [
    "# test is_goal_met\n",
    "random_time_index = np.random.choice(stock_data_vis.index.values)\n",
    "print \"Random time: \" + str(random_time_index)\n",
    "is_goal_met(stock_data_vis, random_time_index, 5, 10)"
   ]
  },
  {
   "cell_type": "code",
   "execution_count": null,
   "metadata": {
    "collapsed": true
   },
   "outputs": [],
   "source": []
  }
 ],
 "metadata": {
  "kernelspec": {
   "display_name": "Python 2",
   "language": "python",
   "name": "python2"
  },
  "language_info": {
   "codemirror_mode": {
    "name": "ipython",
    "version": 2
   },
   "file_extension": ".py",
   "mimetype": "text/x-python",
   "name": "python",
   "nbconvert_exporter": "python",
   "pygments_lexer": "ipython2",
   "version": "2.7.13"
  }
 },
 "nbformat": 4,
 "nbformat_minor": 2
}
