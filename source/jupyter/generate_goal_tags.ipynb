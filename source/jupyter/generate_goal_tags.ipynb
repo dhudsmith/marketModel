{
 "cells": [
  {
   "cell_type": "markdown",
   "metadata": {},
   "source": [
    "## Import necessary modules"
   ]
  },
  {
   "cell_type": "code",
   "execution_count": 18,
   "metadata": {
    "ExecuteTime": {
     "end_time": "2017-09-06T16:45:20.149725Z",
     "start_time": "2017-09-06T16:45:20.142983Z"
    },
    "collapsed": false
   },
   "outputs": [],
   "source": [
    "import time\n",
    "import pandas as pd\n",
    "import numpy as np\n",
    "import datetime as dt\n",
    "from collections import OrderedDict\n",
    "from copy import copy\n",
    "import warnings\n",
    "import matplotlib.pyplot as plt\n",
    "import seaborn as sns\n",
    "from pprint import pprint\n",
    "%matplotlib inline"
   ]
  },
  {
   "cell_type": "markdown",
   "metadata": {},
   "source": [
    "## Filepath management"
   ]
  },
  {
   "cell_type": "code",
   "execution_count": 19,
   "metadata": {
    "ExecuteTime": {
     "end_time": "2017-09-06T16:45:20.657210Z",
     "start_time": "2017-09-06T16:45:20.654580Z"
    },
    "collapsed": true
   },
   "outputs": [],
   "source": [
    "project_dir = r'/Users/hudson/Code/marketModel/'"
   ]
  },
  {
   "cell_type": "markdown",
   "metadata": {},
   "source": [
    "## Load the data from the hdf store"
   ]
  },
  {
   "cell_type": "code",
   "execution_count": 20,
   "metadata": {
    "ExecuteTime": {
     "end_time": "2017-09-06T16:45:21.096367Z",
     "start_time": "2017-09-06T16:45:21.078160Z"
    },
    "collapsed": false
   },
   "outputs": [
    {
     "name": "stdout",
     "output_type": "stream",
     "text": [
      "array(['ASTC', 'PAVM', 'CODA', 'WSTL', 'MICR', 'SEAC', 'GBR', 'CPST',\n",
      "       'CYAN', 'ATLC', 'WTT', 'LRAD', 'DTRM', 'AVIR', 'UTSI', 'JCS',\n",
      "       'ZDGE', 'REFR', 'FORD', 'APHB', 'JVA', 'VSR', 'BNSO', 'ARDM', 'LEU',\n",
      "       'MOC'], dtype=object)\n"
     ]
    }
   ],
   "source": [
    "stock_data = pd.read_hdf(project_dir + 'data/stock_data/raw_stock_data.hdf', 'table')\n",
    "symbols = stock_data.reset_index().ticker.unique()\n",
    "pprint(symbols)"
   ]
  },
  {
   "cell_type": "code",
   "execution_count": 21,
   "metadata": {
    "ExecuteTime": {
     "end_time": "2017-09-06T16:45:21.276460Z",
     "start_time": "2017-09-06T16:45:21.258491Z"
    },
    "collapsed": false
   },
   "outputs": [
    {
     "data": {
      "text/html": [
       "<div>\n",
       "<style>\n",
       "    .dataframe thead tr:only-child th {\n",
       "        text-align: right;\n",
       "    }\n",
       "\n",
       "    .dataframe thead th {\n",
       "        text-align: left;\n",
       "    }\n",
       "\n",
       "    .dataframe tbody tr th {\n",
       "        vertical-align: top;\n",
       "    }\n",
       "</style>\n",
       "<table border=\"1\" class=\"dataframe\">\n",
       "  <thead>\n",
       "    <tr style=\"text-align: right;\">\n",
       "      <th></th>\n",
       "      <th></th>\n",
       "      <th>open</th>\n",
       "      <th>high</th>\n",
       "      <th>low</th>\n",
       "      <th>close</th>\n",
       "      <th>volume</th>\n",
       "    </tr>\n",
       "    <tr>\n",
       "      <th>ticker</th>\n",
       "      <th>timestamp</th>\n",
       "      <th></th>\n",
       "      <th></th>\n",
       "      <th></th>\n",
       "      <th></th>\n",
       "      <th></th>\n",
       "    </tr>\n",
       "  </thead>\n",
       "  <tbody>\n",
       "    <tr>\n",
       "      <th rowspan=\"5\" valign=\"top\">ASTC</th>\n",
       "      <th>2017-08-08 14:47:00</th>\n",
       "      <td>0.7311</td>\n",
       "      <td>0.7311</td>\n",
       "      <td>0.7311</td>\n",
       "      <td>0.7311</td>\n",
       "      <td>1000</td>\n",
       "    </tr>\n",
       "    <tr>\n",
       "      <th>2017-08-08 14:57:00</th>\n",
       "      <td>0.7500</td>\n",
       "      <td>0.7500</td>\n",
       "      <td>0.7500</td>\n",
       "      <td>0.7500</td>\n",
       "      <td>300</td>\n",
       "    </tr>\n",
       "    <tr>\n",
       "      <th>2017-08-08 15:04:00</th>\n",
       "      <td>0.7600</td>\n",
       "      <td>0.7600</td>\n",
       "      <td>0.7600</td>\n",
       "      <td>0.7600</td>\n",
       "      <td>100</td>\n",
       "    </tr>\n",
       "    <tr>\n",
       "      <th>2017-08-08 15:33:00</th>\n",
       "      <td>0.7301</td>\n",
       "      <td>0.7301</td>\n",
       "      <td>0.7301</td>\n",
       "      <td>0.7301</td>\n",
       "      <td>100</td>\n",
       "    </tr>\n",
       "    <tr>\n",
       "      <th>2017-08-08 15:34:00</th>\n",
       "      <td>0.7400</td>\n",
       "      <td>0.7401</td>\n",
       "      <td>0.7250</td>\n",
       "      <td>0.7250</td>\n",
       "      <td>18677</td>\n",
       "    </tr>\n",
       "  </tbody>\n",
       "</table>\n",
       "</div>"
      ],
      "text/plain": [
       "                              open    high     low   close  volume\n",
       "ticker timestamp                                                  \n",
       "ASTC   2017-08-08 14:47:00  0.7311  0.7311  0.7311  0.7311    1000\n",
       "       2017-08-08 14:57:00  0.7500  0.7500  0.7500  0.7500     300\n",
       "       2017-08-08 15:04:00  0.7600  0.7600  0.7600  0.7600     100\n",
       "       2017-08-08 15:33:00  0.7301  0.7301  0.7301  0.7301     100\n",
       "       2017-08-08 15:34:00  0.7400  0.7401  0.7250  0.7250   18677"
      ]
     },
     "execution_count": 21,
     "metadata": {},
     "output_type": "execute_result"
    }
   ],
   "source": [
    "stock_data.head()"
   ]
  },
  {
   "cell_type": "markdown",
   "metadata": {},
   "source": [
    "## Visualize the data"
   ]
  },
  {
   "cell_type": "code",
   "execution_count": 22,
   "metadata": {
    "ExecuteTime": {
     "end_time": "2017-09-06T16:45:22.310581Z",
     "start_time": "2017-09-06T16:45:22.285494Z"
    },
    "collapsed": false
   },
   "outputs": [
    {
     "name": "stdout",
     "output_type": "stream",
     "text": [
      "symbol: DTRM\n",
      "                      open   high    low  close  volume\n",
      "timestamp                                              \n",
      "2017-08-08 13:30:00  2.000  2.000  1.995  1.995    3300\n",
      "2017-08-08 13:31:00  2.000  2.000  2.000  2.000    1800\n",
      "2017-08-08 13:32:00  2.000  2.000  2.000  2.000     600\n",
      "2017-08-08 13:36:00  2.070  2.070  2.070  2.070     100\n",
      "2017-08-08 13:53:00  2.018  2.018  2.018  2.018     500\n",
      "             open        high         low       close         volume\n",
      "count  656.000000  656.000000  656.000000  656.000000     656.000000\n",
      "mean     1.909094    1.913177    1.906054    1.909924    1579.981707\n",
      "std      0.137448    0.136942    0.138241    0.137864   21134.392264\n",
      "min      1.600000    1.600000    1.580000    1.600000     100.000000\n",
      "25%      1.850000    1.850000    1.850000    1.850000     100.000000\n",
      "50%      1.951850    1.960000    1.950000    1.950000     200.000000\n",
      "75%      2.000000    2.009250    2.000000    2.006775     600.000000\n",
      "max      2.120000    2.120000    2.120000    2.120000  540297.000000\n"
     ]
    }
   ],
   "source": [
    "symbol = np.random.choice(symbols)\n",
    "print 'symbol: ' + symbol\n",
    "stock_data_vis = stock_data.loc[symbol]\n",
    "print stock_data_vis.head()\n",
    "print stock_data_vis.describe()"
   ]
  },
  {
   "cell_type": "code",
   "execution_count": 23,
   "metadata": {
    "ExecuteTime": {
     "end_time": "2017-09-06T16:45:22.958399Z",
     "start_time": "2017-09-06T16:45:22.713039Z"
    },
    "collapsed": false
   },
   "outputs": [
    {
     "data": {
      "image/png": "[encoded data removed]",
      "text/plain": [
       "<matplotlib.figure.Figure at 0x117afc150>"
      ]
     },
     "metadata": {},
     "output_type": "display_data"
    }
   ],
   "source": [
    "# First keep the time index so we can see the time frame\n",
    "stock_data_vis.close.plot(label=symbol)\n",
    "\n",
    "plt.legend(bbox_to_anchor=(1.25, .5))\n",
    "plt.tight_layout()\n",
    "plt.ylabel(\"Close ($)\")\n",
    "sns.despine()"
   ]
  },
  {
   "cell_type": "code",
   "execution_count": 24,
   "metadata": {
    "ExecuteTime": {
     "end_time": "2017-09-06T16:45:24.311624Z",
     "start_time": "2017-09-06T16:45:24.089964Z"
    },
    "collapsed": false
   },
   "outputs": [
    {
     "data": {
      "image/png": "[encoded data removed]",
      "text/plain": [
       "<matplotlib.figure.Figure at 0x117afca10>"
      ]
     },
     "metadata": {},
     "output_type": "display_data"
    }
   ],
   "source": [
    "# Now drop the time index so we can see the actual stock movement\n",
    "stock_data_vis.reset_index().close.plot(label=symbol)\n",
    "stock_data_vis.reset_index().close.rolling(20).mean().plot(label='20 Min. Moving Avg.')\n",
    "\n",
    "plt.legend(bbox_to_anchor=(1.25, .5))\n",
    "plt.tight_layout()\n",
    "plt.ylabel(\"Close ($)\")\n",
    "sns.despine()"
   ]
  },
  {
   "cell_type": "markdown",
   "metadata": {
    "collapsed": true
   },
   "source": [
    "## Logic for getting goal information"
   ]
  },
  {
   "cell_type": "code",
   "execution_count": 104,
   "metadata": {
    "ExecuteTime": {
     "end_time": "2017-09-06T17:22:37.436710Z",
     "start_time": "2017-09-06T17:22:37.401902Z"
    },
    "collapsed": false
   },
   "outputs": [],
   "source": [
    "def get_min_max(data, starttime, endtime):\n",
    "    \"\"\"\n",
    "    This function takes data for a specific ticker and returns the min and max prices.\n",
    "    \"\"\"\n",
    "    subdata = data.loc[starttime:endtime]\n",
    "    \n",
    "    return (subdata.low.min(), subdata.high.max())\n",
    "    \n",
    "def is_goal_met(data, timestep, goal_time_from_step, goal_duration, goal_raise_frac = 0.1, goal_drop_frac=0.1):\n",
    "    \"\"\"\n",
    "    This function takes data for a specific ticker, a time index for that ticker, goal parameters, and \n",
    "    returns a boolean indicating whether or not the goal is satisfied for that timestep.\n",
    "    \"\"\"\n",
    "    \n",
    "    # Convert time variables to appropriate numpyt date types\n",
    "    td_goal_time_from_step = np.timedelta64(goal_time_from_step, 'm')\n",
    "    td_goal_duration = np.timedelta64(goal_duration, 'm')\n",
    "    \n",
    "    # Calculate the start and end times of the goal time window\n",
    "    goal_starttime = np.datetime64(timestep + td_goal_time_from_step)\n",
    "    goal_endtime = np.datetime64(goal_starttime + td_goal_duration)\n",
    "\n",
    "    # Get the data for goal checking in that time window\n",
    "    subdata = data.loc[goal_starttime:goal_endtime]\n",
    "    \n",
    "    # Get the minimum and maximum prices for the goal time window\n",
    "    min_price, max_price = get_min_max(data, goal_starttime, goal_endtime)\n",
    "    if np.isnan(min_price) | np.isnan(max_price):\n",
    "        # Zero trading volume in time window. Get last prices.\n",
    "        most_recent_time_with_transactions = np.max(data.loc[:goal_starttime].index)\n",
    "        if most_recent_time_with_transactions == timestep:\n",
    "            return {'timestamp': timestep,\n",
    "                    'goal_met': False,\n",
    "                    'raise_goal_met': False,\n",
    "                    'drop_goal_met': True,\n",
    "                     'statusMessage': 'Zero trading volume since current timestep'}\n",
    "        else:\n",
    "            min_price, max_price = data.loc[timestep, 'low'], data.loc[timestep, 'high']\n",
    "        \n",
    "        \n",
    "    # Determine if goals were met\n",
    "    # TODO: is this the right reference for the 'current price'?\n",
    "    current_price = np.mean(data.loc[timestep, ['high', 'close']])\n",
    "    \n",
    "    # Is raise goal met? Return true if max price at least (1+goal_raise_frac) * current_price\n",
    "    is_raise_goal_met = max_price >= (1+goal_raise_frac) * current_price\n",
    "    \n",
    "    # Is drop goal met? Return true if min price at least (1-goal_drop_frac) * current_price\n",
    "    is_drop_goal_met = min_price >= (1-goal_drop_frac) * current_price\n",
    "    \n",
    "    # Return dict containing raise and drop goals and product for convenience\n",
    "    return {'timestamp': timestep,\n",
    "        'goal_met': is_raise_goal_met * is_drop_goal_met, \n",
    "            'raise_goal_met': is_raise_goal_met, \n",
    "            'drop_goal_met': is_drop_goal_met,\n",
    "             'statusMessage': 'Normal'}"
   ]
  },
  {
   "cell_type": "code",
   "execution_count": 105,
   "metadata": {
    "ExecuteTime": {
     "end_time": "2017-09-06T17:22:37.447477Z",
     "start_time": "2017-09-06T17:22:37.439133Z"
    },
    "collapsed": false
   },
   "outputs": [
    {
     "data": {
      "text/plain": [
       "(1.8999999999999999, 2.0600000000000001)"
      ]
     },
     "execution_count": 105,
     "metadata": {},
     "output_type": "execute_result"
    }
   ],
   "source": [
    "# test get_min_max\n",
    "get_min_max(stock_data_vis, '2017-08-28', '2017-08-30')"
   ]
  },
  {
   "cell_type": "code",
   "execution_count": 106,
   "metadata": {
    "ExecuteTime": {
     "end_time": "2017-09-06T17:22:37.463821Z",
     "start_time": "2017-09-06T17:22:37.450745Z"
    },
    "collapsed": false
   },
   "outputs": [
    {
     "name": "stdout",
     "output_type": "stream",
     "text": [
      "Random time: 2017-08-10T18:53:00.000000000\n"
     ]
    },
    {
     "data": {
      "text/plain": [
       "{'drop_goal_met': True,\n",
       " 'goal_met': False,\n",
       " 'raise_goal_met': False,\n",
       " 'statusMessage': 'Normal',\n",
       " 'timestamp': numpy.datetime64('2017-08-10T18:53:00.000000000')}"
      ]
     },
     "execution_count": 106,
     "metadata": {},
     "output_type": "execute_result"
    }
   ],
   "source": [
    "# test is_goal_met\n",
    "random_time_index = np.random.choice(stock_data_vis.index.values)\n",
    "print \"Random time: \" + str(random_time_index)\n",
    "is_goal_met(stock_data_vis, random_time_index, 0, 1000)"
   ]
  },
  {
   "cell_type": "markdown",
   "metadata": {},
   "source": [
    "## Get goal tags for all data"
   ]
  },
  {
   "cell_type": "code",
   "execution_count": 121,
   "metadata": {
    "ExecuteTime": {
     "end_time": "2017-09-06T17:26:03.665021Z",
     "start_time": "2017-09-06T17:26:03.658475Z"
    },
    "collapsed": false
   },
   "outputs": [],
   "source": [
    "# first define a function that tags for one ticker\n",
    "def get_tagged_stock_data(data, \n",
    "                          ticker, \n",
    "                          goal_time_from_step, \n",
    "                          goal_duration, \n",
    "                          goal_raise_frac = 0.1, \n",
    "                          goal_drop_frac=0.1):\n",
    "    # Loop over the timestamps building a dictionary of the tagging information\n",
    "    tagged_stock_data = []\n",
    "    for timestep in data.index:\n",
    "        goal_dict = is_goal_met(data, timestep, goal_time_from_step, goal_duration, goal_raise_frac, goal_drop_frac)\n",
    "        tagged_stock_data.append(goal_dict)\n",
    "    # Convert to pandas and return\n",
    "    return pd.DataFrame(tagged_stock_data).set_index('timestamp')"
   ]
  },
  {
   "cell_type": "code",
   "execution_count": 122,
   "metadata": {
    "ExecuteTime": {
     "end_time": "2017-09-06T17:26:04.128485Z",
     "start_time": "2017-09-06T17:26:04.116276Z"
    },
    "collapsed": false
   },
   "outputs": [
    {
     "name": "stdout",
     "output_type": "stream",
     "text": [
      "                    ticker    open    high     low   close  volume\n",
      "timestamp                                                         \n",
      "2017-08-08 14:47:00   ASTC  0.7311  0.7311  0.7311  0.7311    1000\n",
      "2017-08-08 14:57:00   ASTC  0.7500  0.7500  0.7500  0.7500     300\n",
      "2017-08-08 15:04:00   ASTC  0.7600  0.7600  0.7600  0.7600     100\n",
      "2017-08-08 15:33:00   ASTC  0.7301  0.7301  0.7301  0.7301     100\n",
      "2017-08-08 15:34:00   ASTC  0.7400  0.7401  0.7250  0.7250   18677\n"
     ]
    }
   ],
   "source": [
    "stock_data_final = stock_data.reset_index(level=0)\n",
    "print stock_data_final.head()\n",
    "grouped_stock_data = stock_data_final.groupby('ticker')"
   ]
  },
  {
   "cell_type": "code",
   "execution_count": 126,
   "metadata": {
    "ExecuteTime": {
     "end_time": "2017-09-06T17:27:10.400497Z",
     "start_time": "2017-09-06T17:26:46.720911Z"
    },
    "collapsed": false
   },
   "outputs": [],
   "source": [
    "start_delay = 24*60 # minutes\n",
    "duration = 24*60*3 # minutes\n",
    "raise_fraction = 0.05\n",
    "drop_fraction = 0.05\n",
    "list_tagged_tickers = []\n",
    "for symbol, group in grouped_stock_data:\n",
    "    # get the tag data for this symbol\n",
    "    tag_data = get_tagged_stock_data(group, symbol, start_delay, duration, raise_fraction, drop_fraction)\n",
    "    \n",
    "    # join tag data back onto the group data\n",
    "    merged_data = group.join(tag_data)\n",
    "    \n",
    "    # Append to the list of tagged data\n",
    "    list_tagged_tickers.append(merged_data)\n",
    "    \n",
    "# Concatenate all the groups\n",
    "all_tagged_data = pd.concat(list_tagged_tickers)"
   ]
  },
  {
   "cell_type": "code",
   "execution_count": 127,
   "metadata": {
    "ExecuteTime": {
     "end_time": "2017-09-06T17:27:10.414347Z",
     "start_time": "2017-09-06T17:27:10.402209Z"
    },
    "collapsed": false
   },
   "outputs": [
    {
     "name": "stdout",
     "output_type": "stream",
     "text": [
      "                    ticker    open    high     low   close  volume  \\\n",
      "timestamp                                                            \n",
      "2017-08-08 13:30:00   APHB  0.8200  0.8200  0.8200  0.8200    3478   \n",
      "2017-08-08 13:32:00   APHB  0.8224  0.8224  0.8224  0.8224     320   \n",
      "2017-08-08 13:47:00   APHB  0.8297  0.8297  0.8297  0.8297     298   \n",
      "2017-08-08 13:50:00   APHB  0.8263  0.8263  0.8263  0.8263     110   \n",
      "2017-08-08 13:59:00   APHB  0.8260  0.8260  0.8260  0.8260     500   \n",
      "\n",
      "                     drop_goal_met  goal_met  raise_goal_met statusMessage  \n",
      "timestamp                                                                   \n",
      "2017-08-08 13:30:00          False     False           False        Normal  \n",
      "2017-08-08 13:32:00          False     False           False        Normal  \n",
      "2017-08-08 13:47:00          False     False           False        Normal  \n",
      "2017-08-08 13:50:00          False     False           False        Normal  \n",
      "2017-08-08 13:59:00          False     False           False        Normal  \n"
     ]
    }
   ],
   "source": [
    "print all_tagged_data.head()"
   ]
  },
  {
   "cell_type": "code",
   "execution_count": 128,
   "metadata": {
    "ExecuteTime": {
     "end_time": "2017-09-06T17:27:10.429623Z",
     "start_time": "2017-09-06T17:27:10.416498Z"
    },
    "collapsed": false
   },
   "outputs": [
    {
     "name": "stdout",
     "output_type": "stream",
     "text": [
      "False    10847\n",
      "True      3904\n",
      "Name: goal_met, dtype: int64\n",
      "Normal                                        14724\n",
      "Zero trading volume since current timestep       27\n",
      "Name: statusMessage, dtype: int64\n"
     ]
    }
   ],
   "source": [
    "print all_tagged_data.goal_met.value_counts()\n",
    "print all_tagged_data.statusMessage.value_counts()"
   ]
  },
  {
   "cell_type": "code",
   "execution_count": null,
   "metadata": {
    "collapsed": true
   },
   "outputs": [],
   "source": []
  }
 ],
 "metadata": {
  "kernelspec": {
   "display_name": "Python 2",
   "language": "python",
   "name": "python2"
  },
  "language_info": {
   "codemirror_mode": {
    "name": "ipython",
    "version": 2
   },
   "file_extension": ".py",
   "mimetype": "text/x-python",
   "name": "python",
   "nbconvert_exporter": "python",
   "pygments_lexer": "ipython2",
   "version": "2.7.13"
  }
 },
 "nbformat": 4,
 "nbformat_minor": 2
}
