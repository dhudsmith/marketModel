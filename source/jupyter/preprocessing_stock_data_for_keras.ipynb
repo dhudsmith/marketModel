{
 "cells": [
  {
   "cell_type": "markdown",
   "metadata": {},
   "source": [
    "## Import necessary modules"
   ]
  },
  {
   "cell_type": "code",
   "execution_count": 2,
   "metadata": {
    "ExecuteTime": {
     "end_time": "2017-09-08T23:20:17.614249Z",
     "start_time": "2017-09-08T23:20:16.519791Z"
    },
    "collapsed": false
   },
   "outputs": [],
   "source": [
    "import numpy as np\n",
    "import pandas as pd\n",
    "import pprint"
   ]
  },
  {
   "cell_type": "markdown",
   "metadata": {},
   "source": [
    "## Filepath management"
   ]
  },
  {
   "cell_type": "code",
   "execution_count": 3,
   "metadata": {
    "ExecuteTime": {
     "end_time": "2017-09-08T23:20:17.619419Z",
     "start_time": "2017-09-08T23:20:17.616122Z"
    },
    "collapsed": true
   },
   "outputs": [],
   "source": [
    "project_dir = r'/Users/hudson/Code/marketModel/'"
   ]
  },
  {
   "cell_type": "markdown",
   "metadata": {
    "ExecuteTime": {
     "end_time": "2017-09-07T20:48:16.481487Z",
     "start_time": "2017-09-07T20:48:16.478639Z"
    },
    "collapsed": true
   },
   "source": [
    "## Load tagged data"
   ]
  },
  {
   "cell_type": "code",
   "execution_count": 4,
   "metadata": {
    "ExecuteTime": {
     "end_time": "2017-09-08T23:20:18.481273Z",
     "start_time": "2017-09-08T23:20:18.264752Z"
    },
    "collapsed": false
   },
   "outputs": [
    {
     "data": {
      "text/html": [
       "<div>\n",
       "<style>\n",
       "    .dataframe thead tr:only-child th {\n",
       "        text-align: right;\n",
       "    }\n",
       "\n",
       "    .dataframe thead th {\n",
       "        text-align: left;\n",
       "    }\n",
       "\n",
       "    .dataframe tbody tr th {\n",
       "        vertical-align: top;\n",
       "    }\n",
       "</style>\n",
       "<table border=\"1\" class=\"dataframe\">\n",
       "  <thead>\n",
       "    <tr style=\"text-align: right;\">\n",
       "      <th></th>\n",
       "      <th>ticker</th>\n",
       "      <th>open</th>\n",
       "      <th>high</th>\n",
       "      <th>low</th>\n",
       "      <th>close</th>\n",
       "      <th>volume</th>\n",
       "      <th>drop_goal_met</th>\n",
       "      <th>goal_met</th>\n",
       "      <th>raise_goal_met</th>\n",
       "      <th>statusMessage</th>\n",
       "    </tr>\n",
       "    <tr>\n",
       "      <th>timestamp</th>\n",
       "      <th></th>\n",
       "      <th></th>\n",
       "      <th></th>\n",
       "      <th></th>\n",
       "      <th></th>\n",
       "      <th></th>\n",
       "      <th></th>\n",
       "      <th></th>\n",
       "      <th></th>\n",
       "      <th></th>\n",
       "    </tr>\n",
       "  </thead>\n",
       "  <tbody>\n",
       "    <tr>\n",
       "      <th>2017-08-09 13:30:00</th>\n",
       "      <td>APHB</td>\n",
       "      <td>0.8001</td>\n",
       "      <td>0.82</td>\n",
       "      <td>0.8001</td>\n",
       "      <td>0.82</td>\n",
       "      <td>3138.0</td>\n",
       "      <td>False</td>\n",
       "      <td>False</td>\n",
       "      <td>False</td>\n",
       "      <td></td>\n",
       "    </tr>\n",
       "    <tr>\n",
       "      <th>2017-08-09 13:31:00</th>\n",
       "      <td>APHB</td>\n",
       "      <td>0.8200</td>\n",
       "      <td>0.82</td>\n",
       "      <td>0.8200</td>\n",
       "      <td>0.82</td>\n",
       "      <td>0.0</td>\n",
       "      <td>False</td>\n",
       "      <td>False</td>\n",
       "      <td>False</td>\n",
       "      <td></td>\n",
       "    </tr>\n",
       "    <tr>\n",
       "      <th>2017-08-09 13:32:00</th>\n",
       "      <td>APHB</td>\n",
       "      <td>0.8200</td>\n",
       "      <td>0.82</td>\n",
       "      <td>0.8200</td>\n",
       "      <td>0.82</td>\n",
       "      <td>0.0</td>\n",
       "      <td>False</td>\n",
       "      <td>False</td>\n",
       "      <td>False</td>\n",
       "      <td></td>\n",
       "    </tr>\n",
       "    <tr>\n",
       "      <th>2017-08-09 13:33:00</th>\n",
       "      <td>APHB</td>\n",
       "      <td>0.8200</td>\n",
       "      <td>0.82</td>\n",
       "      <td>0.8200</td>\n",
       "      <td>0.82</td>\n",
       "      <td>0.0</td>\n",
       "      <td>False</td>\n",
       "      <td>False</td>\n",
       "      <td>False</td>\n",
       "      <td></td>\n",
       "    </tr>\n",
       "    <tr>\n",
       "      <th>2017-08-09 13:34:00</th>\n",
       "      <td>APHB</td>\n",
       "      <td>0.8200</td>\n",
       "      <td>0.82</td>\n",
       "      <td>0.8200</td>\n",
       "      <td>0.82</td>\n",
       "      <td>0.0</td>\n",
       "      <td>False</td>\n",
       "      <td>False</td>\n",
       "      <td>False</td>\n",
       "      <td></td>\n",
       "    </tr>\n",
       "  </tbody>\n",
       "</table>\n",
       "</div>"
      ],
      "text/plain": [
       "                    ticker    open  high     low  close  volume  \\\n",
       "timestamp                                                         \n",
       "2017-08-09 13:30:00   APHB  0.8001  0.82  0.8001   0.82  3138.0   \n",
       "2017-08-09 13:31:00   APHB  0.8200  0.82  0.8200   0.82     0.0   \n",
       "2017-08-09 13:32:00   APHB  0.8200  0.82  0.8200   0.82     0.0   \n",
       "2017-08-09 13:33:00   APHB  0.8200  0.82  0.8200   0.82     0.0   \n",
       "2017-08-09 13:34:00   APHB  0.8200  0.82  0.8200   0.82     0.0   \n",
       "\n",
       "                     drop_goal_met  goal_met  raise_goal_met statusMessage  \n",
       "timestamp                                                                   \n",
       "2017-08-09 13:30:00          False     False           False                \n",
       "2017-08-09 13:31:00          False     False           False                \n",
       "2017-08-09 13:32:00          False     False           False                \n",
       "2017-08-09 13:33:00          False     False           False                \n",
       "2017-08-09 13:34:00          False     False           False                "
      ]
     },
     "execution_count": 4,
     "metadata": {},
     "output_type": "execute_result"
    }
   ],
   "source": [
    "stock_data = pd.read_hdf(project_dir + 'data/stock_data/tagged_stock_data.hdf', 'table')\n",
    "stock_data.head()"
   ]
  },
  {
   "cell_type": "markdown",
   "metadata": {
    "collapsed": true
   },
   "source": [
    "## Reshape the stock data\n",
    "Keras expects as input a numpy array of the following shape (number_sequences, number_timesteps, number_features)"
   ]
  },
  {
   "cell_type": "markdown",
   "metadata": {},
   "source": [
    "### First, filter so all tickers have the same number of minutes"
   ]
  },
  {
   "cell_type": "code",
   "execution_count": 5,
   "metadata": {
    "ExecuteTime": {
     "end_time": "2017-09-08T23:20:20.157755Z",
     "start_time": "2017-09-08T23:20:20.077327Z"
    },
    "collapsed": false
   },
   "outputs": [
    {
     "data": {
      "text/html": [
       "<div>\n",
       "<style>\n",
       "    .dataframe thead tr:only-child th {\n",
       "        text-align: right;\n",
       "    }\n",
       "\n",
       "    .dataframe thead th {\n",
       "        text-align: left;\n",
       "    }\n",
       "\n",
       "    .dataframe tbody tr th {\n",
       "        vertical-align: top;\n",
       "    }\n",
       "</style>\n",
       "<table border=\"1\" class=\"dataframe\">\n",
       "  <thead>\n",
       "    <tr style=\"text-align: right;\">\n",
       "      <th></th>\n",
       "      <th>amin</th>\n",
       "      <th>amax</th>\n",
       "    </tr>\n",
       "    <tr>\n",
       "      <th>ticker</th>\n",
       "      <th></th>\n",
       "      <th></th>\n",
       "    </tr>\n",
       "  </thead>\n",
       "  <tbody>\n",
       "    <tr>\n",
       "      <th>APHB</th>\n",
       "      <td>2017-08-09 13:30:00</td>\n",
       "      <td>2017-09-06 15:54:00</td>\n",
       "    </tr>\n",
       "    <tr>\n",
       "      <th>ARDM</th>\n",
       "      <td>2017-08-09 13:30:00</td>\n",
       "      <td>2017-09-06 15:52:00</td>\n",
       "    </tr>\n",
       "    <tr>\n",
       "      <th>ASTC</th>\n",
       "      <td>2017-08-09 13:30:00</td>\n",
       "      <td>2017-09-06 15:50:00</td>\n",
       "    </tr>\n",
       "    <tr>\n",
       "      <th>ATLC</th>\n",
       "      <td>2017-08-09 13:30:00</td>\n",
       "      <td>2017-09-06 14:52:00</td>\n",
       "    </tr>\n",
       "    <tr>\n",
       "      <th>AVIR</th>\n",
       "      <td>2017-08-09 13:30:00</td>\n",
       "      <td>2017-09-06 15:50:00</td>\n",
       "    </tr>\n",
       "    <tr>\n",
       "      <th>BNSO</th>\n",
       "      <td>2017-08-09 14:05:00</td>\n",
       "      <td>2017-09-05 16:00:00</td>\n",
       "    </tr>\n",
       "    <tr>\n",
       "      <th>CODA</th>\n",
       "      <td>2017-08-09 14:30:00</td>\n",
       "      <td>2017-09-06 15:07:00</td>\n",
       "    </tr>\n",
       "    <tr>\n",
       "      <th>CPST</th>\n",
       "      <td>2017-08-09 13:30:00</td>\n",
       "      <td>2017-09-06 15:57:00</td>\n",
       "    </tr>\n",
       "    <tr>\n",
       "      <th>CYAN</th>\n",
       "      <td>2017-08-10 13:30:00</td>\n",
       "      <td>2017-09-06 14:33:00</td>\n",
       "    </tr>\n",
       "    <tr>\n",
       "      <th>DTRM</th>\n",
       "      <td>2017-08-09 13:30:00</td>\n",
       "      <td>2017-09-06 15:57:00</td>\n",
       "    </tr>\n",
       "    <tr>\n",
       "      <th>FORD</th>\n",
       "      <td>2017-08-09 13:30:00</td>\n",
       "      <td>2017-09-06 15:40:00</td>\n",
       "    </tr>\n",
       "    <tr>\n",
       "      <th>GBR</th>\n",
       "      <td>2017-08-09 13:38:00</td>\n",
       "      <td>2017-09-06 15:58:00</td>\n",
       "    </tr>\n",
       "    <tr>\n",
       "      <th>JCS</th>\n",
       "      <td>2017-08-09 13:30:00</td>\n",
       "      <td>2017-09-06 15:53:00</td>\n",
       "    </tr>\n",
       "    <tr>\n",
       "      <th>JVA</th>\n",
       "      <td>2017-08-09 14:04:00</td>\n",
       "      <td>2017-09-06 14:46:00</td>\n",
       "    </tr>\n",
       "    <tr>\n",
       "      <th>LEU</th>\n",
       "      <td>2017-08-09 13:30:00</td>\n",
       "      <td>2017-09-06 15:42:00</td>\n",
       "    </tr>\n",
       "    <tr>\n",
       "      <th>LRAD</th>\n",
       "      <td>2017-08-09 13:30:00</td>\n",
       "      <td>2017-09-06 15:07:00</td>\n",
       "    </tr>\n",
       "    <tr>\n",
       "      <th>MICR</th>\n",
       "      <td>2017-08-09 14:05:00</td>\n",
       "      <td>2017-09-06 15:34:00</td>\n",
       "    </tr>\n",
       "    <tr>\n",
       "      <th>MOC</th>\n",
       "      <td>2017-08-09 14:27:00</td>\n",
       "      <td>2017-09-06 15:34:00</td>\n",
       "    </tr>\n",
       "    <tr>\n",
       "      <th>PAVM</th>\n",
       "      <td>2017-08-09 15:49:00</td>\n",
       "      <td>2017-09-06 15:52:00</td>\n",
       "    </tr>\n",
       "    <tr>\n",
       "      <th>REFR</th>\n",
       "      <td>2017-08-09 13:30:00</td>\n",
       "      <td>2017-09-06 15:57:00</td>\n",
       "    </tr>\n",
       "    <tr>\n",
       "      <th>SEAC</th>\n",
       "      <td>2017-08-09 13:45:00</td>\n",
       "      <td>2017-09-06 15:58:00</td>\n",
       "    </tr>\n",
       "    <tr>\n",
       "      <th>UTSI</th>\n",
       "      <td>2017-08-09 13:45:00</td>\n",
       "      <td>2017-09-06 15:50:00</td>\n",
       "    </tr>\n",
       "    <tr>\n",
       "      <th>VSR</th>\n",
       "      <td>2017-08-09 13:30:00</td>\n",
       "      <td>2017-09-06 15:56:00</td>\n",
       "    </tr>\n",
       "    <tr>\n",
       "      <th>WSTL</th>\n",
       "      <td>2017-08-09 13:30:00</td>\n",
       "      <td>2017-09-06 15:19:00</td>\n",
       "    </tr>\n",
       "    <tr>\n",
       "      <th>WTT</th>\n",
       "      <td>2017-08-09 14:14:00</td>\n",
       "      <td>2017-09-06 15:57:00</td>\n",
       "    </tr>\n",
       "    <tr>\n",
       "      <th>ZDGE</th>\n",
       "      <td>2017-08-09 13:30:00</td>\n",
       "      <td>2017-09-06 14:37:00</td>\n",
       "    </tr>\n",
       "  </tbody>\n",
       "</table>\n",
       "</div>"
      ],
      "text/plain": [
       "                      amin                amax\n",
       "ticker                                        \n",
       "APHB   2017-08-09 13:30:00 2017-09-06 15:54:00\n",
       "ARDM   2017-08-09 13:30:00 2017-09-06 15:52:00\n",
       "ASTC   2017-08-09 13:30:00 2017-09-06 15:50:00\n",
       "ATLC   2017-08-09 13:30:00 2017-09-06 14:52:00\n",
       "AVIR   2017-08-09 13:30:00 2017-09-06 15:50:00\n",
       "BNSO   2017-08-09 14:05:00 2017-09-05 16:00:00\n",
       "CODA   2017-08-09 14:30:00 2017-09-06 15:07:00\n",
       "CPST   2017-08-09 13:30:00 2017-09-06 15:57:00\n",
       "CYAN   2017-08-10 13:30:00 2017-09-06 14:33:00\n",
       "DTRM   2017-08-09 13:30:00 2017-09-06 15:57:00\n",
       "FORD   2017-08-09 13:30:00 2017-09-06 15:40:00\n",
       "GBR    2017-08-09 13:38:00 2017-09-06 15:58:00\n",
       "JCS    2017-08-09 13:30:00 2017-09-06 15:53:00\n",
       "JVA    2017-08-09 14:04:00 2017-09-06 14:46:00\n",
       "LEU    2017-08-09 13:30:00 2017-09-06 15:42:00\n",
       "LRAD   2017-08-09 13:30:00 2017-09-06 15:07:00\n",
       "MICR   2017-08-09 14:05:00 2017-09-06 15:34:00\n",
       "MOC    2017-08-09 14:27:00 2017-09-06 15:34:00\n",
       "PAVM   2017-08-09 15:49:00 2017-09-06 15:52:00\n",
       "REFR   2017-08-09 13:30:00 2017-09-06 15:57:00\n",
       "SEAC   2017-08-09 13:45:00 2017-09-06 15:58:00\n",
       "UTSI   2017-08-09 13:45:00 2017-09-06 15:50:00\n",
       "VSR    2017-08-09 13:30:00 2017-09-06 15:56:00\n",
       "WSTL   2017-08-09 13:30:00 2017-09-06 15:19:00\n",
       "WTT    2017-08-09 14:14:00 2017-09-06 15:57:00\n",
       "ZDGE   2017-08-09 13:30:00 2017-09-06 14:37:00"
      ]
     },
     "execution_count": 5,
     "metadata": {},
     "output_type": "execute_result"
    }
   ],
   "source": [
    "minmax_times = stock_data.reset_index().groupby('ticker').agg({'timestamp': (np.min, np.max)}).timestamp\n",
    "minmax_times"
   ]
  },
  {
   "cell_type": "code",
   "execution_count": 6,
   "metadata": {
    "ExecuteTime": {
     "end_time": "2017-09-08T23:20:20.835356Z",
     "start_time": "2017-09-08T23:20:20.823425Z"
    },
    "collapsed": false
   },
   "outputs": [
    {
     "name": "stdout",
     "output_type": "stream",
     "text": [
      "2017-08-10 13:30:00 2017-09-05 16:00:00\n"
     ]
    }
   ],
   "source": [
    "min_time, max_time = minmax_times.agg({'amin': np.max, 'amax': np.min})\n",
    "print min_time, max_time"
   ]
  },
  {
   "cell_type": "code",
   "execution_count": 7,
   "metadata": {
    "ExecuteTime": {
     "end_time": "2017-09-08T23:20:21.545447Z",
     "start_time": "2017-09-08T23:20:21.487616Z"
    },
    "collapsed": false
   },
   "outputs": [
    {
     "name": "stdout",
     "output_type": "stream",
     "text": [
      "Stock data shape: (286722, 10)\n",
      "Filtered data shape: (268242, 10)\n"
     ]
    }
   ],
   "source": [
    "unindexed_stock_data = stock_data.reset_index()\n",
    "unindexed_stock_data = unindexed_stock_data.loc[(min_time <= unindexed_stock_data.timestamp) & (unindexed_stock_data.timestamp <= max_time)].set_index('timestamp')\n",
    "print \"Stock data shape: \" + str(stock_data.shape)\n",
    "print \"Filtered data shape: \" + str(unindexed_stock_data.shape)"
   ]
  },
  {
   "cell_type": "code",
   "execution_count": 8,
   "metadata": {
    "ExecuteTime": {
     "end_time": "2017-09-08T23:20:23.589407Z",
     "start_time": "2017-09-08T23:20:23.540450Z"
    },
    "collapsed": false
   },
   "outputs": [
    {
     "data": {
      "text/html": [
       "<div>\n",
       "<style>\n",
       "    .dataframe thead tr:only-child th {\n",
       "        text-align: right;\n",
       "    }\n",
       "\n",
       "    .dataframe thead th {\n",
       "        text-align: left;\n",
       "    }\n",
       "\n",
       "    .dataframe tbody tr th {\n",
       "        vertical-align: top;\n",
       "    }\n",
       "</style>\n",
       "<table border=\"1\" class=\"dataframe\">\n",
       "  <thead>\n",
       "    <tr style=\"text-align: right;\">\n",
       "      <th></th>\n",
       "      <th>amin</th>\n",
       "      <th>amax</th>\n",
       "    </tr>\n",
       "    <tr>\n",
       "      <th>ticker</th>\n",
       "      <th></th>\n",
       "      <th></th>\n",
       "    </tr>\n",
       "  </thead>\n",
       "  <tbody>\n",
       "    <tr>\n",
       "      <th>APHB</th>\n",
       "      <td>2017-08-10 13:30:00</td>\n",
       "      <td>2017-09-05 16:00:00</td>\n",
       "    </tr>\n",
       "    <tr>\n",
       "      <th>ARDM</th>\n",
       "      <td>2017-08-10 13:30:00</td>\n",
       "      <td>2017-09-05 16:00:00</td>\n",
       "    </tr>\n",
       "    <tr>\n",
       "      <th>ASTC</th>\n",
       "      <td>2017-08-10 13:30:00</td>\n",
       "      <td>2017-09-05 16:00:00</td>\n",
       "    </tr>\n",
       "    <tr>\n",
       "      <th>ATLC</th>\n",
       "      <td>2017-08-10 13:30:00</td>\n",
       "      <td>2017-09-05 16:00:00</td>\n",
       "    </tr>\n",
       "    <tr>\n",
       "      <th>AVIR</th>\n",
       "      <td>2017-08-10 13:30:00</td>\n",
       "      <td>2017-09-05 16:00:00</td>\n",
       "    </tr>\n",
       "    <tr>\n",
       "      <th>BNSO</th>\n",
       "      <td>2017-08-10 13:30:00</td>\n",
       "      <td>2017-09-05 16:00:00</td>\n",
       "    </tr>\n",
       "    <tr>\n",
       "      <th>CODA</th>\n",
       "      <td>2017-08-10 13:30:00</td>\n",
       "      <td>2017-09-05 16:00:00</td>\n",
       "    </tr>\n",
       "    <tr>\n",
       "      <th>CPST</th>\n",
       "      <td>2017-08-10 13:30:00</td>\n",
       "      <td>2017-09-05 16:00:00</td>\n",
       "    </tr>\n",
       "    <tr>\n",
       "      <th>CYAN</th>\n",
       "      <td>2017-08-10 13:30:00</td>\n",
       "      <td>2017-09-05 16:00:00</td>\n",
       "    </tr>\n",
       "    <tr>\n",
       "      <th>DTRM</th>\n",
       "      <td>2017-08-10 13:30:00</td>\n",
       "      <td>2017-09-05 16:00:00</td>\n",
       "    </tr>\n",
       "    <tr>\n",
       "      <th>FORD</th>\n",
       "      <td>2017-08-10 13:30:00</td>\n",
       "      <td>2017-09-05 16:00:00</td>\n",
       "    </tr>\n",
       "    <tr>\n",
       "      <th>GBR</th>\n",
       "      <td>2017-08-10 13:30:00</td>\n",
       "      <td>2017-09-05 16:00:00</td>\n",
       "    </tr>\n",
       "    <tr>\n",
       "      <th>JCS</th>\n",
       "      <td>2017-08-10 13:30:00</td>\n",
       "      <td>2017-09-05 16:00:00</td>\n",
       "    </tr>\n",
       "    <tr>\n",
       "      <th>JVA</th>\n",
       "      <td>2017-08-10 13:30:00</td>\n",
       "      <td>2017-09-05 16:00:00</td>\n",
       "    </tr>\n",
       "    <tr>\n",
       "      <th>LEU</th>\n",
       "      <td>2017-08-10 13:30:00</td>\n",
       "      <td>2017-09-05 16:00:00</td>\n",
       "    </tr>\n",
       "    <tr>\n",
       "      <th>LRAD</th>\n",
       "      <td>2017-08-10 13:30:00</td>\n",
       "      <td>2017-09-05 16:00:00</td>\n",
       "    </tr>\n",
       "    <tr>\n",
       "      <th>MICR</th>\n",
       "      <td>2017-08-10 13:30:00</td>\n",
       "      <td>2017-09-05 16:00:00</td>\n",
       "    </tr>\n",
       "    <tr>\n",
       "      <th>MOC</th>\n",
       "      <td>2017-08-10 13:30:00</td>\n",
       "      <td>2017-09-05 16:00:00</td>\n",
       "    </tr>\n",
       "    <tr>\n",
       "      <th>PAVM</th>\n",
       "      <td>2017-08-10 13:30:00</td>\n",
       "      <td>2017-09-05 16:00:00</td>\n",
       "    </tr>\n",
       "    <tr>\n",
       "      <th>REFR</th>\n",
       "      <td>2017-08-10 13:30:00</td>\n",
       "      <td>2017-09-05 16:00:00</td>\n",
       "    </tr>\n",
       "    <tr>\n",
       "      <th>SEAC</th>\n",
       "      <td>2017-08-10 13:30:00</td>\n",
       "      <td>2017-09-05 16:00:00</td>\n",
       "    </tr>\n",
       "    <tr>\n",
       "      <th>UTSI</th>\n",
       "      <td>2017-08-10 13:30:00</td>\n",
       "      <td>2017-09-05 16:00:00</td>\n",
       "    </tr>\n",
       "    <tr>\n",
       "      <th>VSR</th>\n",
       "      <td>2017-08-10 13:30:00</td>\n",
       "      <td>2017-09-05 16:00:00</td>\n",
       "    </tr>\n",
       "    <tr>\n",
       "      <th>WSTL</th>\n",
       "      <td>2017-08-10 13:30:00</td>\n",
       "      <td>2017-09-05 16:00:00</td>\n",
       "    </tr>\n",
       "    <tr>\n",
       "      <th>WTT</th>\n",
       "      <td>2017-08-10 13:30:00</td>\n",
       "      <td>2017-09-05 16:00:00</td>\n",
       "    </tr>\n",
       "    <tr>\n",
       "      <th>ZDGE</th>\n",
       "      <td>2017-08-10 13:30:00</td>\n",
       "      <td>2017-09-05 16:00:00</td>\n",
       "    </tr>\n",
       "  </tbody>\n",
       "</table>\n",
       "</div>"
      ],
      "text/plain": [
       "                      amin                amax\n",
       "ticker                                        \n",
       "APHB   2017-08-10 13:30:00 2017-09-05 16:00:00\n",
       "ARDM   2017-08-10 13:30:00 2017-09-05 16:00:00\n",
       "ASTC   2017-08-10 13:30:00 2017-09-05 16:00:00\n",
       "ATLC   2017-08-10 13:30:00 2017-09-05 16:00:00\n",
       "AVIR   2017-08-10 13:30:00 2017-09-05 16:00:00\n",
       "BNSO   2017-08-10 13:30:00 2017-09-05 16:00:00\n",
       "CODA   2017-08-10 13:30:00 2017-09-05 16:00:00\n",
       "CPST   2017-08-10 13:30:00 2017-09-05 16:00:00\n",
       "CYAN   2017-08-10 13:30:00 2017-09-05 16:00:00\n",
       "DTRM   2017-08-10 13:30:00 2017-09-05 16:00:00\n",
       "FORD   2017-08-10 13:30:00 2017-09-05 16:00:00\n",
       "GBR    2017-08-10 13:30:00 2017-09-05 16:00:00\n",
       "JCS    2017-08-10 13:30:00 2017-09-05 16:00:00\n",
       "JVA    2017-08-10 13:30:00 2017-09-05 16:00:00\n",
       "LEU    2017-08-10 13:30:00 2017-09-05 16:00:00\n",
       "LRAD   2017-08-10 13:30:00 2017-09-05 16:00:00\n",
       "MICR   2017-08-10 13:30:00 2017-09-05 16:00:00\n",
       "MOC    2017-08-10 13:30:00 2017-09-05 16:00:00\n",
       "PAVM   2017-08-10 13:30:00 2017-09-05 16:00:00\n",
       "REFR   2017-08-10 13:30:00 2017-09-05 16:00:00\n",
       "SEAC   2017-08-10 13:30:00 2017-09-05 16:00:00\n",
       "UTSI   2017-08-10 13:30:00 2017-09-05 16:00:00\n",
       "VSR    2017-08-10 13:30:00 2017-09-05 16:00:00\n",
       "WSTL   2017-08-10 13:30:00 2017-09-05 16:00:00\n",
       "WTT    2017-08-10 13:30:00 2017-09-05 16:00:00\n",
       "ZDGE   2017-08-10 13:30:00 2017-09-05 16:00:00"
      ]
     },
     "execution_count": 8,
     "metadata": {},
     "output_type": "execute_result"
    }
   ],
   "source": [
    "minmax_times = unindexed_stock_data.reset_index().groupby('ticker').agg({'timestamp': (np.min, np.max)}).timestamp\n",
    "minmax_times"
   ]
  },
  {
   "cell_type": "code",
   "execution_count": 9,
   "metadata": {
    "ExecuteTime": {
     "end_time": "2017-09-08T23:20:35.124356Z",
     "start_time": "2017-09-08T23:20:35.121675Z"
    },
    "collapsed": true
   },
   "outputs": [],
   "source": [
    "stock_data = unindexed_stock_data"
   ]
  },
  {
   "cell_type": "markdown",
   "metadata": {},
   "source": [
    "### Now start reshaping!"
   ]
  },
  {
   "cell_type": "code",
   "execution_count": 10,
   "metadata": {
    "ExecuteTime": {
     "end_time": "2017-09-08T23:20:37.784191Z",
     "start_time": "2017-09-08T23:20:37.724945Z"
    },
    "collapsed": false
   },
   "outputs": [
    {
     "name": "stdout",
     "output_type": "stream",
     "text": [
      "APHB (10317, 10)\n",
      "ARDM (10317, 10)\n",
      "ASTC (10317, 10)\n",
      "ATLC (10317, 10)\n",
      "AVIR (10317, 10)\n",
      "BNSO (10317, 10)\n",
      "CODA (10317, 10)\n",
      "CPST (10317, 10)\n",
      "CYAN (10317, 10)\n",
      "DTRM (10317, 10)\n",
      "FORD (10317, 10)\n",
      "GBR (10317, 10)\n",
      "JCS (10317, 10)\n",
      "JVA (10317, 10)\n",
      "LEU (10317, 10)\n",
      "LRAD (10317, 10)\n",
      "MICR (10317, 10)\n",
      "MOC (10317, 10)\n",
      "PAVM (10317, 10)\n",
      "REFR (10317, 10)\n",
      "SEAC (10317, 10)\n",
      "UTSI (10317, 10)\n",
      "VSR (10317, 10)\n",
      "WSTL (10317, 10)\n",
      "WTT (10317, 10)\n",
      "ZDGE (10317, 10)\n",
      "10317\n"
     ]
    }
   ],
   "source": [
    "# They should all have the same number of rows and columns now. \n",
    "# Rows are minutes and columns are stock prices and tagging info\n",
    "num_minutes = []\n",
    "for name, group in stock_data.groupby('ticker'):\n",
    "    print name, group.shape\n",
    "    num_minutes.append(group.shape[0])\n",
    "\n",
    "num_minutes = int(np.unique(num_minutes))\n",
    "print num_minutes"
   ]
  },
  {
   "cell_type": "code",
   "execution_count": 92,
   "metadata": {
    "ExecuteTime": {
     "end_time": "2017-09-08T23:52:25.832334Z",
     "start_time": "2017-09-08T23:52:25.729176Z"
    },
    "collapsed": false
   },
   "outputs": [],
   "source": [
    "# Looks good. Let's now make sure that the stock data is sorted by ticker and timestampe\n",
    "stock_data_sorted = stock_data.reset_index().sort_values(['ticker', 'timestamp']).set_index('timestamp')\n",
    "\n",
    "X = stock_data_sorted.loc[:,'ticker':'volume']\n",
    "Y = stock_data_sorted.loc[:,('ticker','goal_met')]"
   ]
  },
  {
   "cell_type": "code",
   "execution_count": 93,
   "metadata": {
    "ExecuteTime": {
     "end_time": "2017-09-08T23:52:26.269432Z",
     "start_time": "2017-09-08T23:52:26.265508Z"
    },
    "collapsed": false
   },
   "outputs": [
    {
     "name": "stdout",
     "output_type": "stream",
     "text": [
      "10317\n",
      "(268242, 2)\n"
     ]
    }
   ],
   "source": [
    "print X.shape[0]/26\n",
    "print Y.shape"
   ]
  },
  {
   "cell_type": "code",
   "execution_count": 96,
   "metadata": {
    "ExecuteTime": {
     "end_time": "2017-09-08T23:52:37.883391Z",
     "start_time": "2017-09-08T23:52:37.879293Z"
    },
    "collapsed": false
   },
   "outputs": [],
   "source": [
    "def rolling_window(a, step):\n",
    "    shape   = a.shape[:-1] + (a.shape[-1] - step + 1, step)\n",
    "    strides = a.strides + (a.strides[-1],)\n",
    "    return np.lib.stride_tricks.as_strided(a, shape=shape, strides=strides)"
   ]
  },
  {
   "cell_type": "code",
   "execution_count": null,
   "metadata": {
    "collapsed": true
   },
   "outputs": [],
   "source": [
    "window_size = 100\n",
    "num_features = 5\n",
    "\n",
    "# Shape the X array\n",
    "X_shaped_array = np.zeros((X.shape[0]/X.ticker.unique().size - window_size + 1, \n",
    "                         window_size, \n",
    "                         num_features *  X.ticker.unique().size))\n",
    "                         \n",
    "for idx, (name, group) in enumerate(X.groupby('ticker')):\n",
    "    group_mx = group.loc[:,'open':'volume'].transpose().as_matrix()\n",
    "    X_shaped_array[:,:,num_features*idx:(num_features * (idx+1))] = \\\n",
    "                          np.rollaxis(rolling_window(group_mx, window_size), 0, 3)\n",
    "    "
   ]
  },
  {
   "cell_type": "code",
   "execution_count": 182,
   "metadata": {
    "ExecuteTime": {
     "end_time": "2017-09-09T00:31:12.174336Z",
     "start_time": "2017-09-09T00:31:12.164295Z"
    },
    "collapsed": false
   },
   "outputs": [
    {
     "name": "stdout",
     "output_type": "stream",
     "text": [
      "(10218, 100, 130)\n",
      "[[  8.00000000e-01   8.00000000e-01   8.00000000e-01   8.00000000e-01\n",
      "    1.59000000e+03]\n",
      " [  8.00000000e-01   8.00000000e-01   8.00000000e-01   8.00000000e-01\n",
      "    0.00000000e+00]\n",
      " [  7.98000000e-01   8.00000000e-01   7.98000000e-01   8.00000000e-01\n",
      "    1.00000000e+04]]\n",
      "                    ticker   open  high    low  close   volume\n",
      "timestamp                                                     \n",
      "2017-08-10 13:30:00   APHB  0.800   0.8  0.800    0.8   1590.0\n",
      "2017-08-10 13:31:00   APHB  0.800   0.8  0.800    0.8      0.0\n",
      "2017-08-10 13:32:00   APHB  0.798   0.8  0.798    0.8  10000.0\n"
     ]
    }
   ],
   "source": [
    "print X_shaped_array.shape\n",
    "print X_shaped_array[0, 0:3, 0:5]\n",
    "print X.head(3)"
   ]
  },
  {
   "cell_type": "code",
   "execution_count": 181,
   "metadata": {
    "ExecuteTime": {
     "end_time": "2017-09-09T00:30:58.974367Z",
     "start_time": "2017-09-09T00:30:58.928608Z"
    },
    "collapsed": false
   },
   "outputs": [],
   "source": [
    "# Shape the Y array\n",
    "Y_shaped_array = np.zeros((X.shape[0]/X.ticker.unique().size - window_size + 1, X.ticker.unique().size))\n",
    "\n",
    "for idx, (name, group) in enumerate(Y.groupby('ticker')):\n",
    "    group_mx = group.loc[:,'goal_met'].as_matrix()\n",
    "    Y_shaped_array[:,idx] = group_mx[window_size-1:]"
   ]
  },
  {
   "cell_type": "code",
   "execution_count": 193,
   "metadata": {
    "ExecuteTime": {
     "end_time": "2017-09-09T00:36:23.925607Z",
     "start_time": "2017-09-09T00:36:23.898402Z"
    },
    "collapsed": false
   },
   "outputs": [
    {
     "name": "stdout",
     "output_type": "stream",
     "text": [
      "(10218, 26)\n",
      "3240\n",
      "goal_met    3240\n",
      "dtype: int64\n"
     ]
    }
   ],
   "source": [
    "print Y_shaped_array.shape\n",
    "print (Y_shaped_array==1).sum()\n",
    "print Y.groupby('ticker').agg({'goal_met': lambda x: x.iloc[window_size-1:].sum()}).agg(np.sum)"
   ]
  },
  {
   "cell_type": "code",
   "execution_count": 199,
   "metadata": {
    "ExecuteTime": {
     "end_time": "2017-09-09T00:37:47.574198Z",
     "start_time": "2017-09-09T00:37:47.570238Z"
    },
    "collapsed": false
   },
   "outputs": [
    {
     "data": {
      "text/plain": [
       "0.012195672794615836"
      ]
     },
     "execution_count": 199,
     "metadata": {},
     "output_type": "execute_result"
    }
   ],
   "source": [
    "3240./10218./26."
   ]
  },
  {
   "cell_type": "markdown",
   "metadata": {},
   "source": [
    "## Save the numpy arrays"
   ]
  },
  {
   "cell_type": "code",
   "execution_count": 200,
   "metadata": {
    "ExecuteTime": {
     "end_time": "2017-09-09T00:40:29.111297Z",
     "start_time": "2017-09-09T00:40:22.873364Z"
    },
    "collapsed": true
   },
   "outputs": [],
   "source": [
    "np.savez(project_dir + 'data/trainingData.npz', X=X_shaped_array, Y=Y_shaped_array)"
   ]
  },
  {
   "cell_type": "code",
   "execution_count": null,
   "metadata": {
    "collapsed": true
   },
   "outputs": [],
   "source": []
  }
 ],
 "metadata": {
  "kernelspec": {
   "display_name": "Python 2",
   "language": "python",
   "name": "python2"
  },
  "language_info": {
   "codemirror_mode": {
    "name": "ipython",
    "version": 2
   },
   "file_extension": ".py",
   "mimetype": "text/x-python",
   "name": "python",
   "nbconvert_exporter": "python",
   "pygments_lexer": "ipython2",
   "version": "2.7.13"
  }
 },
 "nbformat": 4,
 "nbformat_minor": 2
}
